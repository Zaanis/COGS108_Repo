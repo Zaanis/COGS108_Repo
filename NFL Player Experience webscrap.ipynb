{
  "nbformat": 4,
  "nbformat_minor": 0,
  "metadata": {
    "colab": {
      "provenance": []
    },
    "kernelspec": {
      "name": "python3",
      "display_name": "Python 3"
    },
    "language_info": {
      "name": "python"
    },
    "gpuClass": "standard"
  },
  "cells": [
    {
      "cell_type": "code",
      "execution_count": 1,
      "metadata": {
        "id": "6wEZR11MIqw8"
      },
      "outputs": [],
      "source": [
        "import pandas as pd\n",
        "import numpy\n",
        "import pandas as pd\n",
        "from bs4 import BeautifulSoup\n",
        "import requests\n",
        "from urllib.request import Request, urlopen"
      ]
    },
    {
      "cell_type": "markdown",
      "source": [
        "Dataframe of draft combine data 2000 - 2022, exported from Pro Football Reference (PFR) and uploaded to my github\n",
        "\n"
      ],
      "metadata": {
        "id": "EX-4Uoh2oySj"
      }
    },
    {
      "cell_type": "code",
      "source": [
        "df = pd.DataFrame()\n",
        "for year in list(range(2000, 2023)):\n",
        "  df2 = pd.read_csv(\"https://raw.githubusercontent.com/Zaanis/Cogs108-Project/main/{}.csv\".format(year))\n",
        "  df2['Drafted (tm/rnd/yr)'] = df2['Drafted (tm/rnd/yr)'].str.split('/').str[2].str.split('th').str[0].str.split('nd').str[0].str.split('st').str[0].str.split('rd').str[0].fillna(0).astype(int)\n",
        "  df = pd.concat([df, df2])"
      ],
      "metadata": {
        "id": "CbnYPj_PzK5w"
      },
      "execution_count": 2,
      "outputs": []
    },
    {
      "cell_type": "code",
      "source": [
        "df = df.drop(columns =['College'])"
      ],
      "metadata": {
        "id": "ArNj6klqXwOt"
      },
      "execution_count": 3,
      "outputs": []
    },
    {
      "cell_type": "code",
      "source": [
        "df"
      ],
      "metadata": {
        "colab": {
          "base_uri": "https://localhost:8080/",
          "height": 424
        },
        "id": "A-ise2dQ7M4h",
        "outputId": "6d4f01e1-1f80-47dc-ab36-6c25d8920a55"
      },
      "execution_count": 4,
      "outputs": [
        {
          "output_type": "execute_result",
          "data": {
            "text/plain": [
              "               Player  Pos            School      Ht     Wt  40yd  Vertical  \\\n",
              "0        John Abraham  OLB    South Carolina   4-Jun  252.0  4.55       NaN   \n",
              "1     Shaun Alexander   RB           Alabama  Jun-00  218.0  4.58       NaN   \n",
              "2      Darnell Alford   OT       Boston Col.   4-Jun  334.0  5.56      25.0   \n",
              "3        Kyle Allamon   TE        Texas Tech   2-Jun  253.0  4.97      29.0   \n",
              "4    Rashard Anderson   CB     Jackson State   2-Jun  206.0  4.55      34.0   \n",
              "..                ...  ...               ...     ...    ...   ...       ...   \n",
              "319     Devonte Wyatt   DT           Georgia   3-Jun  304.0  4.77      29.0   \n",
              "320   Jalen Wydermyer   TE         Texas A&M   4-Jun  255.0   NaN       NaN   \n",
              "321         Cade York    K               LSU   1-Jun  206.0   NaN       NaN   \n",
              "322       Nick Zakelj   OT           Fordham   6-Jun  316.0  5.13      28.5   \n",
              "323      Bailey Zappe   QB  Western Kentucky   1-Jun  215.0  4.88      30.0   \n",
              "\n",
              "     Bench  Broad Jump  3Cone  Shuttle  Drafted (tm/rnd/yr)  \n",
              "0      NaN         NaN    NaN      NaN                   13  \n",
              "1      NaN         NaN    NaN      NaN                   19  \n",
              "2     23.0        94.0   8.48     4.98                  188  \n",
              "3      NaN       104.0   7.29     4.49                    0  \n",
              "4      NaN       123.0   7.18     4.15                   23  \n",
              "..     ...         ...    ...      ...                  ...  \n",
              "319    NaN       111.0    NaN      NaN                   28  \n",
              "320    NaN         NaN    NaN      NaN                    0  \n",
              "321   12.0         NaN    NaN      NaN                  124  \n",
              "322   27.0       110.0   7.75     4.71                  187  \n",
              "323    NaN       109.0   7.19     4.40                  137  \n",
              "\n",
              "[7680 rows x 12 columns]"
            ],
            "text/html": [
              "\n",
              "  <div id=\"df-e72714ac-e71e-4e50-be7f-86ecf5aa2f8c\">\n",
              "    <div class=\"colab-df-container\">\n",
              "      <div>\n",
              "<style scoped>\n",
              "    .dataframe tbody tr th:only-of-type {\n",
              "        vertical-align: middle;\n",
              "    }\n",
              "\n",
              "    .dataframe tbody tr th {\n",
              "        vertical-align: top;\n",
              "    }\n",
              "\n",
              "    .dataframe thead th {\n",
              "        text-align: right;\n",
              "    }\n",
              "</style>\n",
              "<table border=\"1\" class=\"dataframe\">\n",
              "  <thead>\n",
              "    <tr style=\"text-align: right;\">\n",
              "      <th></th>\n",
              "      <th>Player</th>\n",
              "      <th>Pos</th>\n",
              "      <th>School</th>\n",
              "      <th>Ht</th>\n",
              "      <th>Wt</th>\n",
              "      <th>40yd</th>\n",
              "      <th>Vertical</th>\n",
              "      <th>Bench</th>\n",
              "      <th>Broad Jump</th>\n",
              "      <th>3Cone</th>\n",
              "      <th>Shuttle</th>\n",
              "      <th>Drafted (tm/rnd/yr)</th>\n",
              "    </tr>\n",
              "  </thead>\n",
              "  <tbody>\n",
              "    <tr>\n",
              "      <th>0</th>\n",
              "      <td>John Abraham</td>\n",
              "      <td>OLB</td>\n",
              "      <td>South Carolina</td>\n",
              "      <td>4-Jun</td>\n",
              "      <td>252.0</td>\n",
              "      <td>4.55</td>\n",
              "      <td>NaN</td>\n",
              "      <td>NaN</td>\n",
              "      <td>NaN</td>\n",
              "      <td>NaN</td>\n",
              "      <td>NaN</td>\n",
              "      <td>13</td>\n",
              "    </tr>\n",
              "    <tr>\n",
              "      <th>1</th>\n",
              "      <td>Shaun Alexander</td>\n",
              "      <td>RB</td>\n",
              "      <td>Alabama</td>\n",
              "      <td>Jun-00</td>\n",
              "      <td>218.0</td>\n",
              "      <td>4.58</td>\n",
              "      <td>NaN</td>\n",
              "      <td>NaN</td>\n",
              "      <td>NaN</td>\n",
              "      <td>NaN</td>\n",
              "      <td>NaN</td>\n",
              "      <td>19</td>\n",
              "    </tr>\n",
              "    <tr>\n",
              "      <th>2</th>\n",
              "      <td>Darnell Alford</td>\n",
              "      <td>OT</td>\n",
              "      <td>Boston Col.</td>\n",
              "      <td>4-Jun</td>\n",
              "      <td>334.0</td>\n",
              "      <td>5.56</td>\n",
              "      <td>25.0</td>\n",
              "      <td>23.0</td>\n",
              "      <td>94.0</td>\n",
              "      <td>8.48</td>\n",
              "      <td>4.98</td>\n",
              "      <td>188</td>\n",
              "    </tr>\n",
              "    <tr>\n",
              "      <th>3</th>\n",
              "      <td>Kyle Allamon</td>\n",
              "      <td>TE</td>\n",
              "      <td>Texas Tech</td>\n",
              "      <td>2-Jun</td>\n",
              "      <td>253.0</td>\n",
              "      <td>4.97</td>\n",
              "      <td>29.0</td>\n",
              "      <td>NaN</td>\n",
              "      <td>104.0</td>\n",
              "      <td>7.29</td>\n",
              "      <td>4.49</td>\n",
              "      <td>0</td>\n",
              "    </tr>\n",
              "    <tr>\n",
              "      <th>4</th>\n",
              "      <td>Rashard Anderson</td>\n",
              "      <td>CB</td>\n",
              "      <td>Jackson State</td>\n",
              "      <td>2-Jun</td>\n",
              "      <td>206.0</td>\n",
              "      <td>4.55</td>\n",
              "      <td>34.0</td>\n",
              "      <td>NaN</td>\n",
              "      <td>123.0</td>\n",
              "      <td>7.18</td>\n",
              "      <td>4.15</td>\n",
              "      <td>23</td>\n",
              "    </tr>\n",
              "    <tr>\n",
              "      <th>...</th>\n",
              "      <td>...</td>\n",
              "      <td>...</td>\n",
              "      <td>...</td>\n",
              "      <td>...</td>\n",
              "      <td>...</td>\n",
              "      <td>...</td>\n",
              "      <td>...</td>\n",
              "      <td>...</td>\n",
              "      <td>...</td>\n",
              "      <td>...</td>\n",
              "      <td>...</td>\n",
              "      <td>...</td>\n",
              "    </tr>\n",
              "    <tr>\n",
              "      <th>319</th>\n",
              "      <td>Devonte Wyatt</td>\n",
              "      <td>DT</td>\n",
              "      <td>Georgia</td>\n",
              "      <td>3-Jun</td>\n",
              "      <td>304.0</td>\n",
              "      <td>4.77</td>\n",
              "      <td>29.0</td>\n",
              "      <td>NaN</td>\n",
              "      <td>111.0</td>\n",
              "      <td>NaN</td>\n",
              "      <td>NaN</td>\n",
              "      <td>28</td>\n",
              "    </tr>\n",
              "    <tr>\n",
              "      <th>320</th>\n",
              "      <td>Jalen Wydermyer</td>\n",
              "      <td>TE</td>\n",
              "      <td>Texas A&amp;M</td>\n",
              "      <td>4-Jun</td>\n",
              "      <td>255.0</td>\n",
              "      <td>NaN</td>\n",
              "      <td>NaN</td>\n",
              "      <td>NaN</td>\n",
              "      <td>NaN</td>\n",
              "      <td>NaN</td>\n",
              "      <td>NaN</td>\n",
              "      <td>0</td>\n",
              "    </tr>\n",
              "    <tr>\n",
              "      <th>321</th>\n",
              "      <td>Cade York</td>\n",
              "      <td>K</td>\n",
              "      <td>LSU</td>\n",
              "      <td>1-Jun</td>\n",
              "      <td>206.0</td>\n",
              "      <td>NaN</td>\n",
              "      <td>NaN</td>\n",
              "      <td>12.0</td>\n",
              "      <td>NaN</td>\n",
              "      <td>NaN</td>\n",
              "      <td>NaN</td>\n",
              "      <td>124</td>\n",
              "    </tr>\n",
              "    <tr>\n",
              "      <th>322</th>\n",
              "      <td>Nick Zakelj</td>\n",
              "      <td>OT</td>\n",
              "      <td>Fordham</td>\n",
              "      <td>6-Jun</td>\n",
              "      <td>316.0</td>\n",
              "      <td>5.13</td>\n",
              "      <td>28.5</td>\n",
              "      <td>27.0</td>\n",
              "      <td>110.0</td>\n",
              "      <td>7.75</td>\n",
              "      <td>4.71</td>\n",
              "      <td>187</td>\n",
              "    </tr>\n",
              "    <tr>\n",
              "      <th>323</th>\n",
              "      <td>Bailey Zappe</td>\n",
              "      <td>QB</td>\n",
              "      <td>Western Kentucky</td>\n",
              "      <td>1-Jun</td>\n",
              "      <td>215.0</td>\n",
              "      <td>4.88</td>\n",
              "      <td>30.0</td>\n",
              "      <td>NaN</td>\n",
              "      <td>109.0</td>\n",
              "      <td>7.19</td>\n",
              "      <td>4.40</td>\n",
              "      <td>137</td>\n",
              "    </tr>\n",
              "  </tbody>\n",
              "</table>\n",
              "<p>7680 rows × 12 columns</p>\n",
              "</div>\n",
              "      <button class=\"colab-df-convert\" onclick=\"convertToInteractive('df-e72714ac-e71e-4e50-be7f-86ecf5aa2f8c')\"\n",
              "              title=\"Convert this dataframe to an interactive table.\"\n",
              "              style=\"display:none;\">\n",
              "        \n",
              "  <svg xmlns=\"http://www.w3.org/2000/svg\" height=\"24px\"viewBox=\"0 0 24 24\"\n",
              "       width=\"24px\">\n",
              "    <path d=\"M0 0h24v24H0V0z\" fill=\"none\"/>\n",
              "    <path d=\"M18.56 5.44l.94 2.06.94-2.06 2.06-.94-2.06-.94-.94-2.06-.94 2.06-2.06.94zm-11 1L8.5 8.5l.94-2.06 2.06-.94-2.06-.94L8.5 2.5l-.94 2.06-2.06.94zm10 10l.94 2.06.94-2.06 2.06-.94-2.06-.94-.94-2.06-.94 2.06-2.06.94z\"/><path d=\"M17.41 7.96l-1.37-1.37c-.4-.4-.92-.59-1.43-.59-.52 0-1.04.2-1.43.59L10.3 9.45l-7.72 7.72c-.78.78-.78 2.05 0 2.83L4 21.41c.39.39.9.59 1.41.59.51 0 1.02-.2 1.41-.59l7.78-7.78 2.81-2.81c.8-.78.8-2.07 0-2.86zM5.41 20L4 18.59l7.72-7.72 1.47 1.35L5.41 20z\"/>\n",
              "  </svg>\n",
              "      </button>\n",
              "      \n",
              "  <style>\n",
              "    .colab-df-container {\n",
              "      display:flex;\n",
              "      flex-wrap:wrap;\n",
              "      gap: 12px;\n",
              "    }\n",
              "\n",
              "    .colab-df-convert {\n",
              "      background-color: #E8F0FE;\n",
              "      border: none;\n",
              "      border-radius: 50%;\n",
              "      cursor: pointer;\n",
              "      display: none;\n",
              "      fill: #1967D2;\n",
              "      height: 32px;\n",
              "      padding: 0 0 0 0;\n",
              "      width: 32px;\n",
              "    }\n",
              "\n",
              "    .colab-df-convert:hover {\n",
              "      background-color: #E2EBFA;\n",
              "      box-shadow: 0px 1px 2px rgba(60, 64, 67, 0.3), 0px 1px 3px 1px rgba(60, 64, 67, 0.15);\n",
              "      fill: #174EA6;\n",
              "    }\n",
              "\n",
              "    [theme=dark] .colab-df-convert {\n",
              "      background-color: #3B4455;\n",
              "      fill: #D2E3FC;\n",
              "    }\n",
              "\n",
              "    [theme=dark] .colab-df-convert:hover {\n",
              "      background-color: #434B5C;\n",
              "      box-shadow: 0px 1px 3px 1px rgba(0, 0, 0, 0.15);\n",
              "      filter: drop-shadow(0px 1px 2px rgba(0, 0, 0, 0.3));\n",
              "      fill: #FFFFFF;\n",
              "    }\n",
              "  </style>\n",
              "\n",
              "      <script>\n",
              "        const buttonEl =\n",
              "          document.querySelector('#df-e72714ac-e71e-4e50-be7f-86ecf5aa2f8c button.colab-df-convert');\n",
              "        buttonEl.style.display =\n",
              "          google.colab.kernel.accessAllowed ? 'block' : 'none';\n",
              "\n",
              "        async function convertToInteractive(key) {\n",
              "          const element = document.querySelector('#df-e72714ac-e71e-4e50-be7f-86ecf5aa2f8c');\n",
              "          const dataTable =\n",
              "            await google.colab.kernel.invokeFunction('convertToInteractive',\n",
              "                                                     [key], {});\n",
              "          if (!dataTable) return;\n",
              "\n",
              "          const docLinkHtml = 'Like what you see? Visit the ' +\n",
              "            '<a target=\"_blank\" href=https://colab.research.google.com/notebooks/data_table.ipynb>data table notebook</a>'\n",
              "            + ' to learn more about interactive tables.';\n",
              "          element.innerHTML = '';\n",
              "          dataTable['output_type'] = 'display_data';\n",
              "          await google.colab.output.renderOutput(dataTable, element);\n",
              "          const docLink = document.createElement('div');\n",
              "          docLink.innerHTML = docLinkHtml;\n",
              "          element.appendChild(docLink);\n",
              "        }\n",
              "      </script>\n",
              "    </div>\n",
              "  </div>\n",
              "  "
            ]
          },
          "metadata": {},
          "execution_count": 4
        }
      ]
    },
    {
      "cell_type": "code",
      "source": [
        "players = list(df['Player'])"
      ],
      "metadata": {
        "id": "oa7shQMy7zmn"
      },
      "execution_count": 5,
      "outputs": []
    },
    {
      "cell_type": "markdown",
      "source": [
        "# Webscrap function\n"
      ],
      "metadata": {
        "id": "QsyaE4IJFOJM"
      }
    },
    {
      "cell_type": "code",
      "source": [
        "def nfl_scrap(exp, dnp, names, year):\n",
        "  for name in names:\n",
        "    c = -1\n",
        "    name2 = name.replace('.', '')\n",
        "    splited = name2.split(' ')\n",
        "    player = '-'.join(splited)\n",
        "    player = player.replace('\\'', '-')\n",
        "    url = \"https://www.nfl.com/players/{}/\".format(player)\n",
        "    page = requests.get(url)\n",
        "    soup = BeautifulSoup(page.content, 'html.parser')\n",
        "    lists = soup.find_all('ul', class_ = 'd3-o-list nfl-c-player-info__career-data')\n",
        "    for l in lists:\n",
        "      c = l.find('div', class_ = 'nfl-c-player-info__value').text\n",
        "    if c == -1 or int(c) > 2023 - year:\n",
        "      dnp.append(name)\n",
        "      exp.append(-1)\n",
        "    else:\n",
        "      exp.append(c)    "
      ],
      "metadata": {
        "id": "4ttwP2VFFQnB"
      },
      "execution_count": 6,
      "outputs": []
    },
    {
      "cell_type": "markdown",
      "source": [
        "## 2000"
      ],
      "metadata": {
        "id": "IDU4qdboHAGH"
      }
    },
    {
      "cell_type": "code",
      "source": [
        "players.index('Brian Young')"
      ],
      "metadata": {
        "colab": {
          "base_uri": "https://localhost:8080/"
        },
        "id": "oaQG-6D4HLnQ",
        "outputId": "c4ccfe56-08de-425b-f56d-a4d8c22b258a"
      },
      "execution_count": 7,
      "outputs": [
        {
          "output_type": "execute_result",
          "data": {
            "text/plain": [
              "320"
            ]
          },
          "metadata": {},
          "execution_count": 7
        }
      ]
    },
    {
      "cell_type": "code",
      "source": [
        "players[0:321][-1]"
      ],
      "metadata": {
        "colab": {
          "base_uri": "https://localhost:8080/",
          "height": 35
        },
        "id": "H8N4UDzLHUsF",
        "outputId": "189a5354-9266-48c4-8f53-e307143071a3"
      },
      "execution_count": 8,
      "outputs": [
        {
          "output_type": "execute_result",
          "data": {
            "text/plain": [
              "'Brian Young'"
            ],
            "application/vnd.google.colaboratory.intrinsic+json": {
              "type": "string"
            }
          },
          "metadata": {},
          "execution_count": 8
        }
      ]
    },
    {
      "cell_type": "code",
      "source": [
        "exp = []\n",
        "dnp = []\n",
        "nfl_scrap(exp, dnp, players[0:321], 2000)"
      ],
      "metadata": {
        "id": "bsruJ3xiFfSS"
      },
      "execution_count": 9,
      "outputs": []
    },
    {
      "cell_type": "markdown",
      "source": [
        "## 2001"
      ],
      "metadata": {
        "id": "pf653yerIBBJ"
      }
    },
    {
      "cell_type": "code",
      "source": [
        "players.index('Paul Zukauskas')"
      ],
      "metadata": {
        "id": "oiQG3XWHICTE",
        "colab": {
          "base_uri": "https://localhost:8080/"
        },
        "outputId": "9c41d742-cc44-4c69-ac2c-b436848c448e"
      },
      "execution_count": 10,
      "outputs": [
        {
          "output_type": "execute_result",
          "data": {
            "text/plain": [
              "641"
            ]
          },
          "metadata": {},
          "execution_count": 10
        }
      ]
    },
    {
      "cell_type": "code",
      "source": [
        "players[321:642][-1]"
      ],
      "metadata": {
        "id": "kLhGmIjQILaa",
        "colab": {
          "base_uri": "https://localhost:8080/",
          "height": 35
        },
        "outputId": "a4b47201-9427-4e0e-beb6-bb0f87721186"
      },
      "execution_count": 11,
      "outputs": [
        {
          "output_type": "execute_result",
          "data": {
            "text/plain": [
              "'Paul Zukauskas'"
            ],
            "application/vnd.google.colaboratory.intrinsic+json": {
              "type": "string"
            }
          },
          "metadata": {},
          "execution_count": 11
        }
      ]
    },
    {
      "cell_type": "code",
      "source": [
        "nfl_scrap(exp, dnp, players[321:642], 2001)"
      ],
      "metadata": {
        "id": "UP7utPneIVhO"
      },
      "execution_count": 12,
      "outputs": []
    },
    {
      "cell_type": "markdown",
      "source": [
        "## 2002"
      ],
      "metadata": {
        "id": "YbA9GFRJIZOF"
      }
    },
    {
      "cell_type": "code",
      "source": [
        "players.index('Greg Zolman')"
      ],
      "metadata": {
        "id": "bdAuNuqOIeQ8",
        "colab": {
          "base_uri": "https://localhost:8080/"
        },
        "outputId": "03f73960-6dcb-4207-d1e0-a11d62874282"
      },
      "execution_count": 13,
      "outputs": [
        {
          "output_type": "execute_result",
          "data": {
            "text/plain": [
              "961"
            ]
          },
          "metadata": {},
          "execution_count": 13
        }
      ]
    },
    {
      "cell_type": "code",
      "source": [
        "players[642:962][-1]"
      ],
      "metadata": {
        "id": "pQEzhhJ6IjiP",
        "colab": {
          "base_uri": "https://localhost:8080/",
          "height": 35
        },
        "outputId": "eca671e3-8931-478e-a3dd-a2dc740805f0"
      },
      "execution_count": 14,
      "outputs": [
        {
          "output_type": "execute_result",
          "data": {
            "text/plain": [
              "'Greg Zolman'"
            ],
            "application/vnd.google.colaboratory.intrinsic+json": {
              "type": "string"
            }
          },
          "metadata": {},
          "execution_count": 14
        }
      ]
    },
    {
      "cell_type": "code",
      "source": [
        "nfl_scrap(exp, dnp, players[642:962], 2002)"
      ],
      "metadata": {
        "id": "achOU9__Inzg"
      },
      "execution_count": 20,
      "outputs": []
    },
    {
      "cell_type": "markdown",
      "source": [
        "## 2003"
      ],
      "metadata": {
        "id": "hXUSwfilIqWC"
      }
    },
    {
      "cell_type": "code",
      "source": [
        "players.index('Doug Zeigler')"
      ],
      "metadata": {
        "id": "fVbUGPgDIuc9",
        "colab": {
          "base_uri": "https://localhost:8080/"
        },
        "outputId": "6a6c12c8-ff13-4958-a493-c004c1523ba7"
      },
      "execution_count": 18,
      "outputs": [
        {
          "output_type": "execute_result",
          "data": {
            "text/plain": [
              "1280"
            ]
          },
          "metadata": {},
          "execution_count": 18
        }
      ]
    },
    {
      "cell_type": "code",
      "source": [
        "players[962:1281][-1]"
      ],
      "metadata": {
        "id": "ESDmETumIwzO",
        "colab": {
          "base_uri": "https://localhost:8080/",
          "height": 35
        },
        "outputId": "57c9ee3c-3f29-434d-8c9f-8b906415db6b"
      },
      "execution_count": 19,
      "outputs": [
        {
          "output_type": "execute_result",
          "data": {
            "text/plain": [
              "'Doug Zeigler'"
            ],
            "application/vnd.google.colaboratory.intrinsic+json": {
              "type": "string"
            }
          },
          "metadata": {},
          "execution_count": 19
        }
      ]
    },
    {
      "cell_type": "code",
      "source": [
        "nfl_scrap(exp, dnp, players[962:1281], 2003)"
      ],
      "metadata": {
        "id": "LZZAIow2I2hO"
      },
      "execution_count": 21,
      "outputs": []
    },
    {
      "cell_type": "markdown",
      "source": [
        "## 2004"
      ],
      "metadata": {
        "id": "ec_Lv7rPI6TY"
      }
    },
    {
      "cell_type": "code",
      "source": [
        "players.index('Kevin Youngblood')"
      ],
      "metadata": {
        "id": "wr3O9w_uI4tp",
        "colab": {
          "base_uri": "https://localhost:8080/"
        },
        "outputId": "6f78b0c5-8a98-4348-932d-478e53174b6b"
      },
      "execution_count": 27,
      "outputs": [
        {
          "output_type": "execute_result",
          "data": {
            "text/plain": [
              "1615"
            ]
          },
          "metadata": {},
          "execution_count": 27
        }
      ]
    },
    {
      "cell_type": "code",
      "source": [
        "players[1281:1616][-1]"
      ],
      "metadata": {
        "id": "J87qW8WqJA7p",
        "colab": {
          "base_uri": "https://localhost:8080/",
          "height": 35
        },
        "outputId": "2fb622de-4fdb-4ece-a87e-0c46dfbaee41"
      },
      "execution_count": 28,
      "outputs": [
        {
          "output_type": "execute_result",
          "data": {
            "text/plain": [
              "'Kevin Youngblood'"
            ],
            "application/vnd.google.colaboratory.intrinsic+json": {
              "type": "string"
            }
          },
          "metadata": {},
          "execution_count": 28
        }
      ]
    },
    {
      "cell_type": "code",
      "source": [
        "nfl_scrap(exp, dnp, players[1281:1616], 2004)"
      ],
      "metadata": {
        "id": "slCNa4dnJEiV"
      },
      "execution_count": 29,
      "outputs": []
    },
    {
      "cell_type": "markdown",
      "source": [
        "## 2005"
      ],
      "metadata": {
        "id": "9aIUBy8gJWL0"
      }
    },
    {
      "cell_type": "code",
      "source": [
        "players.index('Scott Young')"
      ],
      "metadata": {
        "id": "kM2aGaRdJXMU",
        "colab": {
          "base_uri": "https://localhost:8080/"
        },
        "outputId": "4c871c5f-3f25-4a4f-b8ff-9f626994fe64"
      },
      "execution_count": 30,
      "outputs": [
        {
          "output_type": "execute_result",
          "data": {
            "text/plain": [
              "1946"
            ]
          },
          "metadata": {},
          "execution_count": 30
        }
      ]
    },
    {
      "cell_type": "code",
      "source": [
        "players[1616:1947][-1]"
      ],
      "metadata": {
        "id": "PKbQhHSHJkPU",
        "colab": {
          "base_uri": "https://localhost:8080/",
          "height": 35
        },
        "outputId": "48d3f99f-ed27-4ab4-b1a4-1fc4e6cfc6e1"
      },
      "execution_count": 31,
      "outputs": [
        {
          "output_type": "execute_result",
          "data": {
            "text/plain": [
              "'Scott Young'"
            ],
            "application/vnd.google.colaboratory.intrinsic+json": {
              "type": "string"
            }
          },
          "metadata": {},
          "execution_count": 31
        }
      ]
    },
    {
      "cell_type": "code",
      "source": [
        "nfl_scrap(exp, dnp, players[1616:1947], 2005)"
      ],
      "metadata": {
        "id": "OyZ2bMViJop1"
      },
      "execution_count": 32,
      "outputs": []
    },
    {
      "cell_type": "markdown",
      "source": [
        "## 2006"
      ],
      "metadata": {
        "id": "MQJszPmgJr7_"
      }
    },
    {
      "cell_type": "code",
      "source": [
        "players.index('Alan Zemaitis')"
      ],
      "metadata": {
        "id": "GPnpwpEaJvD-",
        "colab": {
          "base_uri": "https://localhost:8080/"
        },
        "outputId": "110bd316-4504-45a0-92d4-d47a4b57dd13"
      },
      "execution_count": 33,
      "outputs": [
        {
          "output_type": "execute_result",
          "data": {
            "text/plain": [
              "2274"
            ]
          },
          "metadata": {},
          "execution_count": 33
        }
      ]
    },
    {
      "cell_type": "code",
      "source": [
        "players[1947:2275][-1]"
      ],
      "metadata": {
        "id": "Gmt4SN3fJvLT",
        "colab": {
          "base_uri": "https://localhost:8080/",
          "height": 35
        },
        "outputId": "ded32340-8e52-477a-800a-ddf7b13de0a9"
      },
      "execution_count": 34,
      "outputs": [
        {
          "output_type": "execute_result",
          "data": {
            "text/plain": [
              "'Alan Zemaitis'"
            ],
            "application/vnd.google.colaboratory.intrinsic+json": {
              "type": "string"
            }
          },
          "metadata": {},
          "execution_count": 34
        }
      ]
    },
    {
      "cell_type": "code",
      "source": [
        "nfl_scrap(exp, dnp, players[1947:2275], 2006)"
      ],
      "metadata": {
        "id": "5-C-HUU9JvP-"
      },
      "execution_count": 35,
      "outputs": []
    },
    {
      "cell_type": "markdown",
      "source": [
        "## 2007"
      ],
      "metadata": {
        "id": "xqm3b7FtJ-94"
      }
    },
    {
      "cell_type": "code",
      "source": [
        "players.index('Jared Zabransky')"
      ],
      "metadata": {
        "id": "mZ2GRs4WJvSJ",
        "colab": {
          "base_uri": "https://localhost:8080/"
        },
        "outputId": "affd15e9-9881-4e7e-b0fd-d5974bbf94d6"
      },
      "execution_count": 36,
      "outputs": [
        {
          "output_type": "execute_result",
          "data": {
            "text/plain": [
              "2600"
            ]
          },
          "metadata": {},
          "execution_count": 36
        }
      ]
    },
    {
      "cell_type": "code",
      "source": [
        "players[2275:2601][-1]"
      ],
      "metadata": {
        "id": "zWAzMklHJvUM",
        "colab": {
          "base_uri": "https://localhost:8080/",
          "height": 35
        },
        "outputId": "0163e6d4-a0c0-49f5-bf1d-cccfe1e856b1"
      },
      "execution_count": 37,
      "outputs": [
        {
          "output_type": "execute_result",
          "data": {
            "text/plain": [
              "'Jared Zabransky'"
            ],
            "application/vnd.google.colaboratory.intrinsic+json": {
              "type": "string"
            }
          },
          "metadata": {},
          "execution_count": 37
        }
      ]
    },
    {
      "cell_type": "code",
      "source": [
        "nfl_scrap(exp, dnp, players[2275:2601], 2007)"
      ],
      "metadata": {
        "id": "fy_1XDaaJvV2"
      },
      "execution_count": 38,
      "outputs": []
    },
    {
      "cell_type": "markdown",
      "source": [
        "## 2008"
      ],
      "metadata": {
        "id": "TKeXdFAuKPY0"
      }
    },
    {
      "cell_type": "code",
      "source": [
        "players.index('Jeremy Zuttah')"
      ],
      "metadata": {
        "id": "ZYM8WKlQJvsN",
        "colab": {
          "base_uri": "https://localhost:8080/"
        },
        "outputId": "b9f8defc-f19e-4c1c-9428-fa71384ebf23"
      },
      "execution_count": 39,
      "outputs": [
        {
          "output_type": "execute_result",
          "data": {
            "text/plain": [
              "2930"
            ]
          },
          "metadata": {},
          "execution_count": 39
        }
      ]
    },
    {
      "cell_type": "code",
      "source": [
        "players[2601:2931][-1]"
      ],
      "metadata": {
        "id": "5sQdX9M8Jvuc",
        "colab": {
          "base_uri": "https://localhost:8080/",
          "height": 35
        },
        "outputId": "9e60b995-9635-4503-9600-58647761ea97"
      },
      "execution_count": 40,
      "outputs": [
        {
          "output_type": "execute_result",
          "data": {
            "text/plain": [
              "'Jeremy Zuttah'"
            ],
            "application/vnd.google.colaboratory.intrinsic+json": {
              "type": "string"
            }
          },
          "metadata": {},
          "execution_count": 40
        }
      ]
    },
    {
      "cell_type": "code",
      "source": [
        "nfl_scrap(exp, dnp, players[2601:2931], 2008)"
      ],
      "metadata": {
        "id": "BrrOlf46JvzW"
      },
      "execution_count": 41,
      "outputs": []
    },
    {
      "cell_type": "code",
      "source": [
        "len(exp)"
      ],
      "metadata": {
        "colab": {
          "base_uri": "https://localhost:8080/"
        },
        "id": "U59iCBnUvZMX",
        "outputId": "68c21278-9963-4230-a3dd-05a70574d133"
      },
      "execution_count": 42,
      "outputs": [
        {
          "output_type": "execute_result",
          "data": {
            "text/plain": [
              "2931"
            ]
          },
          "metadata": {},
          "execution_count": 42
        }
      ]
    },
    {
      "cell_type": "markdown",
      "source": [
        "## 2009"
      ],
      "metadata": {
        "id": "IvsAEROQKc09"
      }
    },
    {
      "cell_type": "code",
      "source": [
        "players.index('Jarius Wynn')"
      ],
      "metadata": {
        "id": "SZuW-b4CJv1A",
        "colab": {
          "base_uri": "https://localhost:8080/"
        },
        "outputId": "9bf692dc-0ee7-44cf-e7d4-81956538e7f0"
      },
      "execution_count": 43,
      "outputs": [
        {
          "output_type": "execute_result",
          "data": {
            "text/plain": [
              "3257"
            ]
          },
          "metadata": {},
          "execution_count": 43
        }
      ]
    },
    {
      "cell_type": "code",
      "source": [
        "players[2931:3258][-1]"
      ],
      "metadata": {
        "id": "erup-_lJJv2t",
        "colab": {
          "base_uri": "https://localhost:8080/",
          "height": 35
        },
        "outputId": "97ccd7fb-3ee9-4200-ad52-30c8398e703e"
      },
      "execution_count": 44,
      "outputs": [
        {
          "output_type": "execute_result",
          "data": {
            "text/plain": [
              "'Jarius Wynn'"
            ],
            "application/vnd.google.colaboratory.intrinsic+json": {
              "type": "string"
            }
          },
          "metadata": {},
          "execution_count": 44
        }
      ]
    },
    {
      "cell_type": "code",
      "source": [
        "nfl_scrap(exp, dnp, players[2931:3258], 2009)"
      ],
      "metadata": {
        "id": "CMqmtg2hJv4g"
      },
      "execution_count": 45,
      "outputs": []
    },
    {
      "cell_type": "markdown",
      "source": [
        "## 2010"
      ],
      "metadata": {
        "id": "6ErNrlsXKrBE"
      }
    },
    {
      "cell_type": "code",
      "source": [
        "players.index('Willie Young')"
      ],
      "metadata": {
        "id": "s7uIKiipJv6U",
        "colab": {
          "base_uri": "https://localhost:8080/"
        },
        "outputId": "d276e19f-9399-480e-ef09-5063d0defa7a"
      },
      "execution_count": 46,
      "outputs": [
        {
          "output_type": "execute_result",
          "data": {
            "text/plain": [
              "3583"
            ]
          },
          "metadata": {},
          "execution_count": 46
        }
      ]
    },
    {
      "cell_type": "code",
      "source": [
        "players[3258:3584][-1]"
      ],
      "metadata": {
        "id": "j4L6yC_HJv8J",
        "colab": {
          "base_uri": "https://localhost:8080/",
          "height": 35
        },
        "outputId": "d4e055a4-3351-49dd-c0cd-7da62d4694a9"
      },
      "execution_count": 47,
      "outputs": [
        {
          "output_type": "execute_result",
          "data": {
            "text/plain": [
              "'Willie Young'"
            ],
            "application/vnd.google.colaboratory.intrinsic+json": {
              "type": "string"
            }
          },
          "metadata": {},
          "execution_count": 47
        }
      ]
    },
    {
      "cell_type": "code",
      "source": [
        "nfl_scrap(exp, dnp, players[3258:3584], 2010)"
      ],
      "metadata": {
        "id": "SCkVsLr8Jv91"
      },
      "execution_count": 48,
      "outputs": []
    },
    {
      "cell_type": "markdown",
      "source": [
        "## 2011"
      ],
      "metadata": {
        "id": "53xc_IsaK5IZ"
      }
    },
    {
      "cell_type": "code",
      "source": [
        "players.index('Lee Ziemba')"
      ],
      "metadata": {
        "id": "psnJFmQLK4Vw",
        "colab": {
          "base_uri": "https://localhost:8080/"
        },
        "outputId": "8503386a-4bda-47f8-dda5-6f7dce0efc5a"
      },
      "execution_count": 49,
      "outputs": [
        {
          "output_type": "execute_result",
          "data": {
            "text/plain": [
              "3912"
            ]
          },
          "metadata": {},
          "execution_count": 49
        }
      ]
    },
    {
      "cell_type": "code",
      "source": [
        "players[3584:3913][-1]"
      ],
      "metadata": {
        "id": "hawZZE8jJv_k",
        "colab": {
          "base_uri": "https://localhost:8080/",
          "height": 35
        },
        "outputId": "c1eb7fab-7aa2-491e-904c-cad1eb3e3292"
      },
      "execution_count": 50,
      "outputs": [
        {
          "output_type": "execute_result",
          "data": {
            "text/plain": [
              "'Lee Ziemba'"
            ],
            "application/vnd.google.colaboratory.intrinsic+json": {
              "type": "string"
            }
          },
          "metadata": {},
          "execution_count": 50
        }
      ]
    },
    {
      "cell_type": "code",
      "source": [
        "nfl_scrap(exp, dnp,players[3584:3913] , 2011)"
      ],
      "metadata": {
        "id": "E-Ym3t1CJwBS"
      },
      "execution_count": 51,
      "outputs": []
    },
    {
      "cell_type": "markdown",
      "source": [
        "## 2012"
      ],
      "metadata": {
        "id": "W0ZWqBfuLIY_"
      }
    },
    {
      "cell_type": "code",
      "source": [
        "players.index('Markus Zusevics')"
      ],
      "metadata": {
        "id": "b8nbchBsJwDV",
        "colab": {
          "base_uri": "https://localhost:8080/"
        },
        "outputId": "9b55f379-92a1-4a67-d879-b87811fcaeee"
      },
      "execution_count": 52,
      "outputs": [
        {
          "output_type": "execute_result",
          "data": {
            "text/plain": [
              "4236"
            ]
          },
          "metadata": {},
          "execution_count": 52
        }
      ]
    },
    {
      "cell_type": "code",
      "source": [
        "players[3913:4237][-1]"
      ],
      "metadata": {
        "id": "YDJ0rVizJwFA",
        "colab": {
          "base_uri": "https://localhost:8080/",
          "height": 35
        },
        "outputId": "ed7e0b32-3e06-4132-ec45-380483e82d14"
      },
      "execution_count": 53,
      "outputs": [
        {
          "output_type": "execute_result",
          "data": {
            "text/plain": [
              "'Markus Zusevics'"
            ],
            "application/vnd.google.colaboratory.intrinsic+json": {
              "type": "string"
            }
          },
          "metadata": {},
          "execution_count": 53
        }
      ]
    },
    {
      "cell_type": "code",
      "source": [
        "nfl_scrap(exp, dnp,players[3913:4237] , 2012)"
      ],
      "metadata": {
        "id": "SWISHbbeJwGe"
      },
      "execution_count": 54,
      "outputs": []
    },
    {
      "cell_type": "markdown",
      "source": [
        "## 2013"
      ],
      "metadata": {
        "id": "Q-ABtXA5LUou"
      }
    },
    {
      "cell_type": "code",
      "source": [
        "players.index('Blidi Wreh-Wilson')"
      ],
      "metadata": {
        "id": "6HCyKqY8JwIS",
        "colab": {
          "base_uri": "https://localhost:8080/"
        },
        "outputId": "3269c4d8-a30f-4642-e760-84b0f48e8097"
      },
      "execution_count": 55,
      "outputs": [
        {
          "output_type": "execute_result",
          "data": {
            "text/plain": [
              "4568"
            ]
          },
          "metadata": {},
          "execution_count": 55
        }
      ]
    },
    {
      "cell_type": "code",
      "source": [
        "players[4237:4569][-1]"
      ],
      "metadata": {
        "id": "pYjboXCnJwKG",
        "colab": {
          "base_uri": "https://localhost:8080/",
          "height": 35
        },
        "outputId": "d715639d-1414-4d25-891e-be8fe49e6fd9"
      },
      "execution_count": 56,
      "outputs": [
        {
          "output_type": "execute_result",
          "data": {
            "text/plain": [
              "'Blidi Wreh-Wilson'"
            ],
            "application/vnd.google.colaboratory.intrinsic+json": {
              "type": "string"
            }
          },
          "metadata": {},
          "execution_count": 56
        }
      ]
    },
    {
      "cell_type": "code",
      "source": [
        "nfl_scrap(exp, dnp,players[4237:4569] , 2013)"
      ],
      "metadata": {
        "id": "dS8tOlfWJwL1"
      },
      "execution_count": 57,
      "outputs": []
    },
    {
      "cell_type": "markdown",
      "source": [
        "## 2014"
      ],
      "metadata": {
        "id": "ujQxp6g8Lk_P"
      }
    },
    {
      "cell_type": "code",
      "source": [
        "players.index('Jordan Zumwalt')"
      ],
      "metadata": {
        "id": "GyKad6vbJwNr",
        "colab": {
          "base_uri": "https://localhost:8080/"
        },
        "outputId": "62bfeed3-c22d-4806-d5a0-c1376a071b6a"
      },
      "execution_count": 58,
      "outputs": [
        {
          "output_type": "execute_result",
          "data": {
            "text/plain": [
              "4901"
            ]
          },
          "metadata": {},
          "execution_count": 58
        }
      ]
    },
    {
      "cell_type": "code",
      "source": [
        "players[4569:4902][-1]"
      ],
      "metadata": {
        "id": "A62mPYmfJwPV",
        "colab": {
          "base_uri": "https://localhost:8080/",
          "height": 35
        },
        "outputId": "bf05a36a-7fa5-4372-bde0-0d8a742b6735"
      },
      "execution_count": 59,
      "outputs": [
        {
          "output_type": "execute_result",
          "data": {
            "text/plain": [
              "'Jordan Zumwalt'"
            ],
            "application/vnd.google.colaboratory.intrinsic+json": {
              "type": "string"
            }
          },
          "metadata": {},
          "execution_count": 59
        }
      ]
    },
    {
      "cell_type": "code",
      "source": [
        "nfl_scrap(exp, dnp,players[4569:4902], 2014)"
      ],
      "metadata": {
        "id": "_8hB3q8NJwRm"
      },
      "execution_count": 60,
      "outputs": []
    },
    {
      "cell_type": "markdown",
      "source": [
        "## 2015"
      ],
      "metadata": {
        "id": "8zNHU5sPL0Dr"
      }
    },
    {
      "cell_type": "code",
      "source": [
        "players.index('Zach Zenner')"
      ],
      "metadata": {
        "id": "2a_5cVdTLzOS",
        "colab": {
          "base_uri": "https://localhost:8080/"
        },
        "outputId": "5699b756-6b5c-4532-db9f-3a5e13035b85"
      },
      "execution_count": 61,
      "outputs": [
        {
          "output_type": "execute_result",
          "data": {
            "text/plain": [
              "5223"
            ]
          },
          "metadata": {},
          "execution_count": 61
        }
      ]
    },
    {
      "cell_type": "code",
      "source": [
        "players[4902:5224][-1]"
      ],
      "metadata": {
        "id": "nPxtC2CnLzQR",
        "colab": {
          "base_uri": "https://localhost:8080/",
          "height": 35
        },
        "outputId": "cec8dfcb-c5c9-4787-995a-999a3cb1335d"
      },
      "execution_count": 62,
      "outputs": [
        {
          "output_type": "execute_result",
          "data": {
            "text/plain": [
              "'Zach Zenner'"
            ],
            "application/vnd.google.colaboratory.intrinsic+json": {
              "type": "string"
            }
          },
          "metadata": {},
          "execution_count": 62
        }
      ]
    },
    {
      "cell_type": "code",
      "source": [
        "nfl_scrap(exp, dnp,players[4902:5224], 2015)"
      ],
      "metadata": {
        "id": "f8lYIc-cLzSK"
      },
      "execution_count": 63,
      "outputs": []
    },
    {
      "cell_type": "markdown",
      "source": [
        "## 2016"
      ],
      "metadata": {
        "id": "fEwE9_Y7ML2H"
      }
    },
    {
      "cell_type": "code",
      "source": [
        "players.index('Anthony Zettel')"
      ],
      "metadata": {
        "id": "dCR05FgJLzVe",
        "colab": {
          "base_uri": "https://localhost:8080/"
        },
        "outputId": "b5e9882d-6af0-4219-866f-dbb1b2a49468"
      },
      "execution_count": 64,
      "outputs": [
        {
          "output_type": "execute_result",
          "data": {
            "text/plain": [
              "5555"
            ]
          },
          "metadata": {},
          "execution_count": 64
        }
      ]
    },
    {
      "cell_type": "code",
      "source": [
        "players[5224:5556][-1]"
      ],
      "metadata": {
        "id": "Zm9TYlMnLzXd",
        "colab": {
          "base_uri": "https://localhost:8080/",
          "height": 35
        },
        "outputId": "7912bfe9-fe41-4891-934d-a3b0de2b590a"
      },
      "execution_count": 65,
      "outputs": [
        {
          "output_type": "execute_result",
          "data": {
            "text/plain": [
              "'Anthony Zettel'"
            ],
            "application/vnd.google.colaboratory.intrinsic+json": {
              "type": "string"
            }
          },
          "metadata": {},
          "execution_count": 65
        }
      ]
    },
    {
      "cell_type": "code",
      "source": [
        "nfl_scrap(exp, dnp,players[5224:5556], 2016)"
      ],
      "metadata": {
        "id": "RELzeeXPLzZB"
      },
      "execution_count": 66,
      "outputs": []
    },
    {
      "cell_type": "markdown",
      "source": [
        "## 2017"
      ],
      "metadata": {
        "id": "UTM34QPVMYpL"
      }
    },
    {
      "cell_type": "code",
      "source": [
        "players.index('Chris Wormley')"
      ],
      "metadata": {
        "id": "Ozv3Y1dvLza8",
        "colab": {
          "base_uri": "https://localhost:8080/"
        },
        "outputId": "9d98aef9-1ff4-461a-9c34-5a8bb6f08454"
      },
      "execution_count": 67,
      "outputs": [
        {
          "output_type": "execute_result",
          "data": {
            "text/plain": [
              "5882"
            ]
          },
          "metadata": {},
          "execution_count": 67
        }
      ]
    },
    {
      "cell_type": "code",
      "source": [
        "players[5556:5883][-1]"
      ],
      "metadata": {
        "id": "_BXcvWDlLzcw",
        "colab": {
          "base_uri": "https://localhost:8080/",
          "height": 35
        },
        "outputId": "809f817d-f9e8-4713-db0a-7d4dbfd83c3b"
      },
      "execution_count": 68,
      "outputs": [
        {
          "output_type": "execute_result",
          "data": {
            "text/plain": [
              "'Chris Wormley'"
            ],
            "application/vnd.google.colaboratory.intrinsic+json": {
              "type": "string"
            }
          },
          "metadata": {},
          "execution_count": 68
        }
      ]
    },
    {
      "cell_type": "code",
      "source": [
        "nfl_scrap(exp, dnp,players[5556:5883], 2017)"
      ],
      "metadata": {
        "id": "8RoRqO5fLzec"
      },
      "execution_count": 69,
      "outputs": []
    },
    {
      "cell_type": "markdown",
      "source": [
        "## 2018"
      ],
      "metadata": {
        "id": "gPdsKiwVMmYe"
      }
    },
    {
      "cell_type": "code",
      "source": [
        "players.index('Trevon Young')"
      ],
      "metadata": {
        "id": "bqwHRNCHLzgd",
        "colab": {
          "base_uri": "https://localhost:8080/"
        },
        "outputId": "af41fd22-0841-42d3-ae8b-6d6daea7ff57"
      },
      "execution_count": 70,
      "outputs": [
        {
          "output_type": "execute_result",
          "data": {
            "text/plain": [
              "6218"
            ]
          },
          "metadata": {},
          "execution_count": 70
        }
      ]
    },
    {
      "cell_type": "code",
      "source": [
        "players[5883:6219][-1]"
      ],
      "metadata": {
        "id": "oESSt3jFLziK",
        "colab": {
          "base_uri": "https://localhost:8080/",
          "height": 35
        },
        "outputId": "e9ee0ea4-af0a-486e-b84f-dd57ef312185"
      },
      "execution_count": 71,
      "outputs": [
        {
          "output_type": "execute_result",
          "data": {
            "text/plain": [
              "'Trevon Young'"
            ],
            "application/vnd.google.colaboratory.intrinsic+json": {
              "type": "string"
            }
          },
          "metadata": {},
          "execution_count": 71
        }
      ]
    },
    {
      "cell_type": "code",
      "source": [
        "nfl_scrap(exp, dnp,players[5883:6219], 2018)"
      ],
      "metadata": {
        "id": "NJc2iJLQLzjs"
      },
      "execution_count": 72,
      "outputs": []
    },
    {
      "cell_type": "markdown",
      "source": [
        "## 2019"
      ],
      "metadata": {
        "id": "raIzDFPSMy0O"
      }
    },
    {
      "cell_type": "code",
      "source": [
        "players.index('Rock Ya-Sin')"
      ],
      "metadata": {
        "id": "Sz0uFbkBLzlf",
        "colab": {
          "base_uri": "https://localhost:8080/"
        },
        "outputId": "fa7a9fed-ed00-46ab-f533-574e92244210"
      },
      "execution_count": 73,
      "outputs": [
        {
          "output_type": "execute_result",
          "data": {
            "text/plain": [
              "6554"
            ]
          },
          "metadata": {},
          "execution_count": 73
        }
      ]
    },
    {
      "cell_type": "code",
      "source": [
        "players[6219:6555][-1]"
      ],
      "metadata": {
        "id": "LsSyEdjVLznR",
        "colab": {
          "base_uri": "https://localhost:8080/",
          "height": 35
        },
        "outputId": "c668b2f5-1cf1-4dad-aa34-d1b6539fa488"
      },
      "execution_count": 74,
      "outputs": [
        {
          "output_type": "execute_result",
          "data": {
            "text/plain": [
              "'Rock Ya-Sin'"
            ],
            "application/vnd.google.colaboratory.intrinsic+json": {
              "type": "string"
            }
          },
          "metadata": {},
          "execution_count": 74
        }
      ]
    },
    {
      "cell_type": "code",
      "source": [
        "nfl_scrap(exp, dnp,players[6219:6555], 2019)"
      ],
      "metadata": {
        "id": "ZZ08rNe1Lzpg"
      },
      "execution_count": 75,
      "outputs": []
    },
    {
      "cell_type": "markdown",
      "source": [
        "## 2020"
      ],
      "metadata": {
        "id": "hWNjoQuHNGCu"
      }
    },
    {
      "cell_type": "code",
      "source": [
        "players.index('Jabari Zuniga')"
      ],
      "metadata": {
        "id": "lJJOrvTmNIbZ",
        "colab": {
          "base_uri": "https://localhost:8080/"
        },
        "outputId": "4b8391da-7161-4cbf-c399-5ed09b606aeb"
      },
      "execution_count": 76,
      "outputs": [
        {
          "output_type": "execute_result",
          "data": {
            "text/plain": [
              "6891"
            ]
          },
          "metadata": {},
          "execution_count": 76
        }
      ]
    },
    {
      "cell_type": "code",
      "source": [
        "players[6555:6892][-1]"
      ],
      "metadata": {
        "id": "IbpZHohQNIko",
        "colab": {
          "base_uri": "https://localhost:8080/",
          "height": 35
        },
        "outputId": "89832eb8-5686-4802-ee96-4a5ab442c115"
      },
      "execution_count": 77,
      "outputs": [
        {
          "output_type": "execute_result",
          "data": {
            "text/plain": [
              "'Jabari Zuniga'"
            ],
            "application/vnd.google.colaboratory.intrinsic+json": {
              "type": "string"
            }
          },
          "metadata": {},
          "execution_count": 77
        }
      ]
    },
    {
      "cell_type": "code",
      "source": [
        "nfl_scrap(exp, dnp,players[6555:6892], 2020)"
      ],
      "metadata": {
        "id": "kwsFaQOONIm4"
      },
      "execution_count": 78,
      "outputs": []
    },
    {
      "cell_type": "markdown",
      "source": [
        "## 2021"
      ],
      "metadata": {
        "id": "G9GLowLkNUQ-"
      }
    },
    {
      "cell_type": "code",
      "source": [
        "players.index('Landon Young')"
      ],
      "metadata": {
        "id": "uwB3CRVjNIos",
        "colab": {
          "base_uri": "https://localhost:8080/"
        },
        "outputId": "8d310466-e64b-4f1a-93d1-98d338b6c12f"
      },
      "execution_count": 79,
      "outputs": [
        {
          "output_type": "execute_result",
          "data": {
            "text/plain": [
              "7355"
            ]
          },
          "metadata": {},
          "execution_count": 79
        }
      ]
    },
    {
      "cell_type": "code",
      "source": [
        "players[6892:7356][-1]"
      ],
      "metadata": {
        "id": "JPvarXiXNIqg",
        "colab": {
          "base_uri": "https://localhost:8080/",
          "height": 35
        },
        "outputId": "dd9c36a4-a887-44bc-b181-9af02e9da501"
      },
      "execution_count": 80,
      "outputs": [
        {
          "output_type": "execute_result",
          "data": {
            "text/plain": [
              "'Landon Young'"
            ],
            "application/vnd.google.colaboratory.intrinsic+json": {
              "type": "string"
            }
          },
          "metadata": {},
          "execution_count": 80
        }
      ]
    },
    {
      "cell_type": "code",
      "source": [
        "nfl_scrap(exp, dnp,players[6892:7356], 2021)"
      ],
      "metadata": {
        "id": "qAqWZSZWNIsJ"
      },
      "execution_count": 81,
      "outputs": []
    },
    {
      "cell_type": "markdown",
      "source": [
        "## 2022"
      ],
      "metadata": {
        "id": "07GvTAYgNh9y"
      }
    },
    {
      "cell_type": "code",
      "source": [
        "players.index('Bailey Zappe')"
      ],
      "metadata": {
        "id": "VCZhxb3SNl6m",
        "colab": {
          "base_uri": "https://localhost:8080/"
        },
        "outputId": "075102ad-e65e-4bad-8ecd-c720bf7410bc"
      },
      "execution_count": 82,
      "outputs": [
        {
          "output_type": "execute_result",
          "data": {
            "text/plain": [
              "7679"
            ]
          },
          "metadata": {},
          "execution_count": 82
        }
      ]
    },
    {
      "cell_type": "code",
      "source": [
        "players[7356:7680][-1]"
      ],
      "metadata": {
        "id": "qk7EvsNRNmAd",
        "colab": {
          "base_uri": "https://localhost:8080/",
          "height": 35
        },
        "outputId": "f64b5458-f165-48d2-c29a-7f6bde3d7669"
      },
      "execution_count": 83,
      "outputs": [
        {
          "output_type": "execute_result",
          "data": {
            "text/plain": [
              "'Bailey Zappe'"
            ],
            "application/vnd.google.colaboratory.intrinsic+json": {
              "type": "string"
            }
          },
          "metadata": {},
          "execution_count": 83
        }
      ]
    },
    {
      "cell_type": "code",
      "source": [
        "nfl_scrap(exp, dnp,players[7356:7680], 2022)"
      ],
      "metadata": {
        "id": "ZXliJg2fNmCj"
      },
      "execution_count": 84,
      "outputs": []
    },
    {
      "cell_type": "code",
      "source": [
        "len(exp)"
      ],
      "metadata": {
        "colab": {
          "base_uri": "https://localhost:8080/"
        },
        "id": "CVb8o_5VMk_E",
        "outputId": "8869f2dc-e298-42a8-c4d5-d106732483fa"
      },
      "execution_count": 85,
      "outputs": [
        {
          "output_type": "execute_result",
          "data": {
            "text/plain": [
              "7680"
            ]
          },
          "metadata": {},
          "execution_count": 85
        }
      ]
    },
    {
      "cell_type": "code",
      "source": [
        "len(dnp)"
      ],
      "metadata": {
        "colab": {
          "base_uri": "https://localhost:8080/"
        },
        "id": "dJYZawmQNNyg",
        "outputId": "a9b6ae6a-0700-4292-d425-c2acd3722f92"
      },
      "execution_count": 86,
      "outputs": [
        {
          "output_type": "execute_result",
          "data": {
            "text/plain": [
              "1403"
            ]
          },
          "metadata": {},
          "execution_count": 86
        }
      ]
    },
    {
      "cell_type": "code",
      "source": [
        "for i in dnp:\n",
        "  if '.' in i:\n",
        "    print(i)"
      ],
      "metadata": {
        "colab": {
          "base_uri": "https://localhost:8080/"
        },
        "id": "cVfRM8uiNQaA",
        "outputId": "569ffb8c-453f-4b0f-b548-1551da3edbc7"
      },
      "execution_count": 89,
      "outputs": [
        {
          "output_type": "stream",
          "name": "stdout",
          "text": [
            "D.J. Cooper\n",
            "J.R. Redmond\n",
            "T.J. Slaughter\n",
            "R. Jay Soward\n",
            "T.J. Turner\n",
            "P.J. Alexander\n",
            "T.J. Duckett\n",
            "R.J. English\n",
            "D.D. Lewis\n",
            "J.T. O'Sullivan\n",
            "T.C. Taylor\n",
            "B.J. Askew\n",
            "D. Bryant\n",
            "E.J. Henderson\n",
            "L.J. Smith\n",
            "J.R. Tolver\n",
            "B.J. Tucker\n",
            "J.P. Foschi\n",
            "D.J. Hackett\n",
            "T.J. Hollowell\n",
            "B.J. Johnson\n",
            "J.P. Losman\n",
            "P.K. Sam\n",
            "B.J. Sander\n",
            "B.J. Symons\n",
            "D.J. Williams\n",
            "J.J. Arrington\n",
            "O.J. Atogwe\n",
            "C.J. Brooks\n",
            "T.A. McLendon\n",
            "C.J. Mosley\n",
            "J.R. Russell\n",
            "P.J. Daniels\n",
            "A.J. Hawk\n",
            "T.J. Jackson\n",
            "A.J. Nicholson\n",
            "D.J. Shockley\n",
            "E.J. Whitley\n",
            "T.J. Williams\n",
            "H.B. Blades\n",
            "A.J. Davis\n",
            "C.J. Gaddis\n",
            "J.D. Nelson\n",
            "D.J. Ware\n",
            "C.J. Wilson\n",
            "C.J. Ah You\n",
            "D.J. Hall\n",
            "T.C. Ostrander\n",
            "D.J. Parker\n",
            "D.J. Wolfe\n",
            "C.J. Davis\n",
            "P.J. Hill\n",
            "D.J. Johnson\n",
            "D.J. Moore\n",
            "B.J. Raji\n",
            "A.Q. Shipley\n",
            "C.J. Spillman\n",
            "A.J. Edds\n",
            "A.J. Jefferson\n",
            "C.J. Spiller\n",
            "J.D. Walton\n",
            "T.J. Ward\n",
            "C.J. Wilson\n",
            "E.J. Wilson\n",
            "A.J. Green\n",
            "O.J. Murdock\n",
            "D.J. Smith\n",
            "J.T. Thomas\n",
            "J.J. Watt\n",
            "D.J. Williams\n",
            "K.J. Wright\n",
            "T.J. Yates\n",
            "B.J. Coleman\n",
            "B.J. Cunningham\n",
            "T.J. Graham\n",
            "T.Y. Hilton\n",
            "A.J. Jenkins\n",
            "J.R. Sweezy\n",
            "C.J. Anderson\n",
            "T.J. Barnes\n",
            "D.J. Fluker\n",
            "D.J. Harper\n",
            "D.J. Hayden\n",
            "D.C. Jefferson\n",
            "T.J. Johnson\n",
            "A.J. Klein\n",
            "P.J. Lonergan\n",
            "E.J. Manuel\n",
            "T.J. McDonald\n",
            "T.J. Moe\n",
            "D.J. Swearinger\n",
            "J.C. Tretter\n",
            "B.W. Webb\n",
            "J.J. Wilcox\n",
            "J.C. Copeland\n",
            "A.D. Denham\n",
            "I.K. Enemkpali\n",
            "C.J. Fiedorowicz\n",
            "E.J. Gaines\n",
            "T.J. Jones\n",
            "Odell Beckham, Jr.\n",
            "James Wilder, Jr.\n",
            "A.C. Leonard\n",
            "A.J. McCarron\n",
            "C.J. Mosley\n",
            "D.J. Tialavea\n",
            "E.J. Bibbs\n",
            "A.J. Cann\n",
            "B.J. Catalon\n",
            "T.J. Clemmings\n",
            "B.J. Dubose\n",
            "B.J. Finney\n",
            "D.J. Humphries\n",
            "Mario Edwards, Jr.\n",
            "J.J. Nelson\n",
            "J.T. Surratt\n",
            "J.R. Tavai\n",
            "P.J. Williams\n",
            "T.J. Yeldon\n",
            "D.J. Foster\n",
            "B.J. Goodson\n",
            "T.J. Green\n",
            "C.J. Johnson\n",
            "D.J. Pettway\n",
            "C.J. Prosise\n",
            "D.J. Reader\n",
            "A.J. Stamps\n",
            "D.J. White\n",
            "C.J. Beathard\n",
            "K.D. Cannon\n",
            "J.J. Dielman\n",
            "O.J. Howard\n",
            "D.J. Jones\n",
            "Victor Bolden Jr.\n",
            "Bryan Cox Jr.\n",
            "Anthony Walker Jr.\n",
            "Greg Ward Jr.\n",
            "Deatrich Wise Jr.\n",
            "T.J. Logan\n",
            "T.J. Watt\n",
            "J.T. Barrett\n",
            "Equanimeous St. brown\n",
            "D.J. Chark\n",
            "B.J. Hill\n",
            "J.C. Jackson\n",
            "K.J. Malone\n",
            "R.J. McIntosh\n",
            "D.J. Moore\n",
            "D.J. Reed\n",
            "M.J. Stewart\n",
            "J.J. Arcega-Whiteside\n",
            "A.J. Brown\n",
            "L.J. Collier\n",
            "C.J. Conrad\n",
            "T.J. Edwards\n",
            "T.J. Hockenson\n",
            "D.K. Metcalf\n",
            "J.K. Dobbins\n",
            "A.J. Epenesa\n",
            "A.J. Green\n",
            "C.J. Henderson\n",
            "K.J. Hill\n",
            "Antoine Brooks Jr.\n",
            "Willie Gay Jr.\n",
            "Laviska Shenault Jr.\n",
            "Antoine Winfield Jr.\n",
            "C.J. O'Grady\n",
            "K.J. Osborn\n",
            "J.R. Reed\n",
            "J.J. Taylor\n",
            "A.J. Terrell\n",
            "D.J. Wonnum\n",
            "K.J. Britt\n",
            "Amon-Ra St. Brown\n",
            "J.C. Chalk\n",
            "Terrace Marshall Jr.\n",
            "Asante Samuel Jr.\n",
            "Thomas Graham Jr.\n",
            "Kary Vincent Jr.\n",
            "E.J. Muhammad\n",
            "K.J. Sails\n",
            "Kevin Austin Jr.\n",
            "Reggie Roberson Jr.\n"
          ]
        }
      ]
    },
    {
      "cell_type": "markdown",
      "source": [
        "Change height to float (exporting from PFR to excel changed it to date format for some reason)"
      ],
      "metadata": {
        "id": "PURtFAJxN3Ss"
      }
    },
    {
      "cell_type": "code",
      "source": [
        "def height(h):\n",
        "  if type(h) == float:\n",
        "    return h\n",
        "  splitted = h.split('-')\n",
        "  num = 0\n",
        "  if 'Jun' in splitted or 'May' in splitted:\n",
        "    if 'Jun' in splitted:\n",
        "      num += 12 * 6\n",
        "      splitted.remove('Jun')\n",
        "    elif 'May' in splitted:\n",
        "      num += 12 *5\n",
        "      splitted.remove('May')\n",
        "  num += int(splitted[0])\n",
        "  return num"
      ],
      "metadata": {
        "id": "Yi20xMzMY8IO"
      },
      "execution_count": 90,
      "outputs": []
    },
    {
      "cell_type": "code",
      "source": [
        "df['Ht'] = df['Ht'].apply(height)"
      ],
      "metadata": {
        "id": "bix62Us-5Tve"
      },
      "execution_count": 91,
      "outputs": []
    },
    {
      "cell_type": "code",
      "source": [
        "df['Experience'] = exp"
      ],
      "metadata": {
        "id": "V4H-wi7LDgLm"
      },
      "execution_count": 92,
      "outputs": []
    },
    {
      "cell_type": "code",
      "source": [
        "df"
      ],
      "metadata": {
        "id": "LLpIu1ecDq70",
        "colab": {
          "base_uri": "https://localhost:8080/",
          "height": 424
        },
        "outputId": "13982b87-cc73-42e4-b947-0e988536426a"
      },
      "execution_count": 93,
      "outputs": [
        {
          "output_type": "execute_result",
          "data": {
            "text/plain": [
              "               Player  Pos            School    Ht     Wt  40yd  Vertical  \\\n",
              "0        John Abraham  OLB    South Carolina  76.0  252.0  4.55       NaN   \n",
              "1     Shaun Alexander   RB           Alabama  72.0  218.0  4.58       NaN   \n",
              "2      Darnell Alford   OT       Boston Col.  76.0  334.0  5.56      25.0   \n",
              "3        Kyle Allamon   TE        Texas Tech  74.0  253.0  4.97      29.0   \n",
              "4    Rashard Anderson   CB     Jackson State  74.0  206.0  4.55      34.0   \n",
              "..                ...  ...               ...   ...    ...   ...       ...   \n",
              "319     Devonte Wyatt   DT           Georgia  75.0  304.0  4.77      29.0   \n",
              "320   Jalen Wydermyer   TE         Texas A&M  76.0  255.0   NaN       NaN   \n",
              "321         Cade York    K               LSU  73.0  206.0   NaN       NaN   \n",
              "322       Nick Zakelj   OT           Fordham  78.0  316.0  5.13      28.5   \n",
              "323      Bailey Zappe   QB  Western Kentucky  73.0  215.0  4.88      30.0   \n",
              "\n",
              "     Bench  Broad Jump  3Cone  Shuttle  Drafted (tm/rnd/yr) Experience  \n",
              "0      NaN         NaN    NaN      NaN                   13         15  \n",
              "1      NaN         NaN    NaN      NaN                   19          9  \n",
              "2     23.0        94.0   8.48     4.98                  188          4  \n",
              "3      NaN       104.0   7.29     4.49                    0         -1  \n",
              "4      NaN       123.0   7.18     4.15                   23          3  \n",
              "..     ...         ...    ...      ...                  ...        ...  \n",
              "319    NaN       111.0    NaN      NaN                   28          0  \n",
              "320    NaN         NaN    NaN      NaN                    0          0  \n",
              "321   12.0         NaN    NaN      NaN                  124          0  \n",
              "322   27.0       110.0   7.75     4.71                  187          0  \n",
              "323    NaN       109.0   7.19     4.40                  137          0  \n",
              "\n",
              "[7680 rows x 13 columns]"
            ],
            "text/html": [
              "\n",
              "  <div id=\"df-7bde1ce7-3346-4746-a936-e2a93304eee9\">\n",
              "    <div class=\"colab-df-container\">\n",
              "      <div>\n",
              "<style scoped>\n",
              "    .dataframe tbody tr th:only-of-type {\n",
              "        vertical-align: middle;\n",
              "    }\n",
              "\n",
              "    .dataframe tbody tr th {\n",
              "        vertical-align: top;\n",
              "    }\n",
              "\n",
              "    .dataframe thead th {\n",
              "        text-align: right;\n",
              "    }\n",
              "</style>\n",
              "<table border=\"1\" class=\"dataframe\">\n",
              "  <thead>\n",
              "    <tr style=\"text-align: right;\">\n",
              "      <th></th>\n",
              "      <th>Player</th>\n",
              "      <th>Pos</th>\n",
              "      <th>School</th>\n",
              "      <th>Ht</th>\n",
              "      <th>Wt</th>\n",
              "      <th>40yd</th>\n",
              "      <th>Vertical</th>\n",
              "      <th>Bench</th>\n",
              "      <th>Broad Jump</th>\n",
              "      <th>3Cone</th>\n",
              "      <th>Shuttle</th>\n",
              "      <th>Drafted (tm/rnd/yr)</th>\n",
              "      <th>Experience</th>\n",
              "    </tr>\n",
              "  </thead>\n",
              "  <tbody>\n",
              "    <tr>\n",
              "      <th>0</th>\n",
              "      <td>John Abraham</td>\n",
              "      <td>OLB</td>\n",
              "      <td>South Carolina</td>\n",
              "      <td>76.0</td>\n",
              "      <td>252.0</td>\n",
              "      <td>4.55</td>\n",
              "      <td>NaN</td>\n",
              "      <td>NaN</td>\n",
              "      <td>NaN</td>\n",
              "      <td>NaN</td>\n",
              "      <td>NaN</td>\n",
              "      <td>13</td>\n",
              "      <td>15</td>\n",
              "    </tr>\n",
              "    <tr>\n",
              "      <th>1</th>\n",
              "      <td>Shaun Alexander</td>\n",
              "      <td>RB</td>\n",
              "      <td>Alabama</td>\n",
              "      <td>72.0</td>\n",
              "      <td>218.0</td>\n",
              "      <td>4.58</td>\n",
              "      <td>NaN</td>\n",
              "      <td>NaN</td>\n",
              "      <td>NaN</td>\n",
              "      <td>NaN</td>\n",
              "      <td>NaN</td>\n",
              "      <td>19</td>\n",
              "      <td>9</td>\n",
              "    </tr>\n",
              "    <tr>\n",
              "      <th>2</th>\n",
              "      <td>Darnell Alford</td>\n",
              "      <td>OT</td>\n",
              "      <td>Boston Col.</td>\n",
              "      <td>76.0</td>\n",
              "      <td>334.0</td>\n",
              "      <td>5.56</td>\n",
              "      <td>25.0</td>\n",
              "      <td>23.0</td>\n",
              "      <td>94.0</td>\n",
              "      <td>8.48</td>\n",
              "      <td>4.98</td>\n",
              "      <td>188</td>\n",
              "      <td>4</td>\n",
              "    </tr>\n",
              "    <tr>\n",
              "      <th>3</th>\n",
              "      <td>Kyle Allamon</td>\n",
              "      <td>TE</td>\n",
              "      <td>Texas Tech</td>\n",
              "      <td>74.0</td>\n",
              "      <td>253.0</td>\n",
              "      <td>4.97</td>\n",
              "      <td>29.0</td>\n",
              "      <td>NaN</td>\n",
              "      <td>104.0</td>\n",
              "      <td>7.29</td>\n",
              "      <td>4.49</td>\n",
              "      <td>0</td>\n",
              "      <td>-1</td>\n",
              "    </tr>\n",
              "    <tr>\n",
              "      <th>4</th>\n",
              "      <td>Rashard Anderson</td>\n",
              "      <td>CB</td>\n",
              "      <td>Jackson State</td>\n",
              "      <td>74.0</td>\n",
              "      <td>206.0</td>\n",
              "      <td>4.55</td>\n",
              "      <td>34.0</td>\n",
              "      <td>NaN</td>\n",
              "      <td>123.0</td>\n",
              "      <td>7.18</td>\n",
              "      <td>4.15</td>\n",
              "      <td>23</td>\n",
              "      <td>3</td>\n",
              "    </tr>\n",
              "    <tr>\n",
              "      <th>...</th>\n",
              "      <td>...</td>\n",
              "      <td>...</td>\n",
              "      <td>...</td>\n",
              "      <td>...</td>\n",
              "      <td>...</td>\n",
              "      <td>...</td>\n",
              "      <td>...</td>\n",
              "      <td>...</td>\n",
              "      <td>...</td>\n",
              "      <td>...</td>\n",
              "      <td>...</td>\n",
              "      <td>...</td>\n",
              "      <td>...</td>\n",
              "    </tr>\n",
              "    <tr>\n",
              "      <th>319</th>\n",
              "      <td>Devonte Wyatt</td>\n",
              "      <td>DT</td>\n",
              "      <td>Georgia</td>\n",
              "      <td>75.0</td>\n",
              "      <td>304.0</td>\n",
              "      <td>4.77</td>\n",
              "      <td>29.0</td>\n",
              "      <td>NaN</td>\n",
              "      <td>111.0</td>\n",
              "      <td>NaN</td>\n",
              "      <td>NaN</td>\n",
              "      <td>28</td>\n",
              "      <td>0</td>\n",
              "    </tr>\n",
              "    <tr>\n",
              "      <th>320</th>\n",
              "      <td>Jalen Wydermyer</td>\n",
              "      <td>TE</td>\n",
              "      <td>Texas A&amp;M</td>\n",
              "      <td>76.0</td>\n",
              "      <td>255.0</td>\n",
              "      <td>NaN</td>\n",
              "      <td>NaN</td>\n",
              "      <td>NaN</td>\n",
              "      <td>NaN</td>\n",
              "      <td>NaN</td>\n",
              "      <td>NaN</td>\n",
              "      <td>0</td>\n",
              "      <td>0</td>\n",
              "    </tr>\n",
              "    <tr>\n",
              "      <th>321</th>\n",
              "      <td>Cade York</td>\n",
              "      <td>K</td>\n",
              "      <td>LSU</td>\n",
              "      <td>73.0</td>\n",
              "      <td>206.0</td>\n",
              "      <td>NaN</td>\n",
              "      <td>NaN</td>\n",
              "      <td>12.0</td>\n",
              "      <td>NaN</td>\n",
              "      <td>NaN</td>\n",
              "      <td>NaN</td>\n",
              "      <td>124</td>\n",
              "      <td>0</td>\n",
              "    </tr>\n",
              "    <tr>\n",
              "      <th>322</th>\n",
              "      <td>Nick Zakelj</td>\n",
              "      <td>OT</td>\n",
              "      <td>Fordham</td>\n",
              "      <td>78.0</td>\n",
              "      <td>316.0</td>\n",
              "      <td>5.13</td>\n",
              "      <td>28.5</td>\n",
              "      <td>27.0</td>\n",
              "      <td>110.0</td>\n",
              "      <td>7.75</td>\n",
              "      <td>4.71</td>\n",
              "      <td>187</td>\n",
              "      <td>0</td>\n",
              "    </tr>\n",
              "    <tr>\n",
              "      <th>323</th>\n",
              "      <td>Bailey Zappe</td>\n",
              "      <td>QB</td>\n",
              "      <td>Western Kentucky</td>\n",
              "      <td>73.0</td>\n",
              "      <td>215.0</td>\n",
              "      <td>4.88</td>\n",
              "      <td>30.0</td>\n",
              "      <td>NaN</td>\n",
              "      <td>109.0</td>\n",
              "      <td>7.19</td>\n",
              "      <td>4.40</td>\n",
              "      <td>137</td>\n",
              "      <td>0</td>\n",
              "    </tr>\n",
              "  </tbody>\n",
              "</table>\n",
              "<p>7680 rows × 13 columns</p>\n",
              "</div>\n",
              "      <button class=\"colab-df-convert\" onclick=\"convertToInteractive('df-7bde1ce7-3346-4746-a936-e2a93304eee9')\"\n",
              "              title=\"Convert this dataframe to an interactive table.\"\n",
              "              style=\"display:none;\">\n",
              "        \n",
              "  <svg xmlns=\"http://www.w3.org/2000/svg\" height=\"24px\"viewBox=\"0 0 24 24\"\n",
              "       width=\"24px\">\n",
              "    <path d=\"M0 0h24v24H0V0z\" fill=\"none\"/>\n",
              "    <path d=\"M18.56 5.44l.94 2.06.94-2.06 2.06-.94-2.06-.94-.94-2.06-.94 2.06-2.06.94zm-11 1L8.5 8.5l.94-2.06 2.06-.94-2.06-.94L8.5 2.5l-.94 2.06-2.06.94zm10 10l.94 2.06.94-2.06 2.06-.94-2.06-.94-.94-2.06-.94 2.06-2.06.94z\"/><path d=\"M17.41 7.96l-1.37-1.37c-.4-.4-.92-.59-1.43-.59-.52 0-1.04.2-1.43.59L10.3 9.45l-7.72 7.72c-.78.78-.78 2.05 0 2.83L4 21.41c.39.39.9.59 1.41.59.51 0 1.02-.2 1.41-.59l7.78-7.78 2.81-2.81c.8-.78.8-2.07 0-2.86zM5.41 20L4 18.59l7.72-7.72 1.47 1.35L5.41 20z\"/>\n",
              "  </svg>\n",
              "      </button>\n",
              "      \n",
              "  <style>\n",
              "    .colab-df-container {\n",
              "      display:flex;\n",
              "      flex-wrap:wrap;\n",
              "      gap: 12px;\n",
              "    }\n",
              "\n",
              "    .colab-df-convert {\n",
              "      background-color: #E8F0FE;\n",
              "      border: none;\n",
              "      border-radius: 50%;\n",
              "      cursor: pointer;\n",
              "      display: none;\n",
              "      fill: #1967D2;\n",
              "      height: 32px;\n",
              "      padding: 0 0 0 0;\n",
              "      width: 32px;\n",
              "    }\n",
              "\n",
              "    .colab-df-convert:hover {\n",
              "      background-color: #E2EBFA;\n",
              "      box-shadow: 0px 1px 2px rgba(60, 64, 67, 0.3), 0px 1px 3px 1px rgba(60, 64, 67, 0.15);\n",
              "      fill: #174EA6;\n",
              "    }\n",
              "\n",
              "    [theme=dark] .colab-df-convert {\n",
              "      background-color: #3B4455;\n",
              "      fill: #D2E3FC;\n",
              "    }\n",
              "\n",
              "    [theme=dark] .colab-df-convert:hover {\n",
              "      background-color: #434B5C;\n",
              "      box-shadow: 0px 1px 3px 1px rgba(0, 0, 0, 0.15);\n",
              "      filter: drop-shadow(0px 1px 2px rgba(0, 0, 0, 0.3));\n",
              "      fill: #FFFFFF;\n",
              "    }\n",
              "  </style>\n",
              "\n",
              "      <script>\n",
              "        const buttonEl =\n",
              "          document.querySelector('#df-7bde1ce7-3346-4746-a936-e2a93304eee9 button.colab-df-convert');\n",
              "        buttonEl.style.display =\n",
              "          google.colab.kernel.accessAllowed ? 'block' : 'none';\n",
              "\n",
              "        async function convertToInteractive(key) {\n",
              "          const element = document.querySelector('#df-7bde1ce7-3346-4746-a936-e2a93304eee9');\n",
              "          const dataTable =\n",
              "            await google.colab.kernel.invokeFunction('convertToInteractive',\n",
              "                                                     [key], {});\n",
              "          if (!dataTable) return;\n",
              "\n",
              "          const docLinkHtml = 'Like what you see? Visit the ' +\n",
              "            '<a target=\"_blank\" href=https://colab.research.google.com/notebooks/data_table.ipynb>data table notebook</a>'\n",
              "            + ' to learn more about interactive tables.';\n",
              "          element.innerHTML = '';\n",
              "          dataTable['output_type'] = 'display_data';\n",
              "          await google.colab.output.renderOutput(dataTable, element);\n",
              "          const docLink = document.createElement('div');\n",
              "          docLink.innerHTML = docLinkHtml;\n",
              "          element.appendChild(docLink);\n",
              "        }\n",
              "      </script>\n",
              "    </div>\n",
              "  </div>\n",
              "  "
            ]
          },
          "metadata": {},
          "execution_count": 93
        }
      ]
    },
    {
      "cell_type": "markdown",
      "source": [
        "Note: Some player name with . or ' or jr in their name might have different website format, will try my best to go through list of DNP and update it in the exported excel sheet"
      ],
      "metadata": {
        "id": "lUCtuXAdOctG"
      }
    },
    {
      "cell_type": "code",
      "source": [
        "df.dropna()"
      ],
      "metadata": {
        "id": "S25UWYl9OpK3",
        "colab": {
          "base_uri": "https://localhost:8080/",
          "height": 424
        },
        "outputId": "53f05824-b1b7-4365-9294-afd70ad1a144"
      },
      "execution_count": 94,
      "outputs": [
        {
          "output_type": "execute_result",
          "data": {
            "text/plain": [
              "             Player  Pos                 School    Ht     Wt  40yd  Vertical  \\\n",
              "2    Darnell Alford   OT            Boston Col.  76.0  334.0  5.56      25.0   \n",
              "7      Corey Atkins  OLB         South Carolina  72.0  237.0  4.72      31.0   \n",
              "9     Reggie Austin   CB            Wake Forest  69.0  175.0  4.44      35.0   \n",
              "11   Mark Baniewicz   OT               Syracuse  78.0  312.0  5.34      28.0   \n",
              "12   Rashidi Barnes    S               Colorado  72.0  208.0  4.62      35.0   \n",
              "..              ...  ...                    ...   ...    ...   ...       ...   \n",
              "261    Cole Strange   OG  Tennessee-Chattanooga  77.0  307.0  5.03      28.0   \n",
              "271     Zach Thomas   OG          San Diego St.  77.0  308.0  4.96      22.5   \n",
              "281     Cole Turner   TE                 Nevada  78.0  246.0  4.76      27.0   \n",
              "286  Cordell Volson   OG       North Dakota St.  78.0  315.0  5.27      25.0   \n",
              "322     Nick Zakelj   OT                Fordham  78.0  316.0  5.13      28.5   \n",
              "\n",
              "     Bench  Broad Jump  3Cone  Shuttle  Drafted (tm/rnd/yr) Experience  \n",
              "2     23.0        94.0   8.48     4.98                  188          4  \n",
              "7     21.0       112.0   7.96     4.39                    0          0  \n",
              "9     17.0       119.0   7.03     4.14                  125          2  \n",
              "11    20.0        96.0   7.72     4.73                  247          2  \n",
              "12    10.0       114.0   6.92     4.32                  225          0  \n",
              "..     ...         ...    ...      ...                  ...        ...  \n",
              "261   31.0       120.0   7.44     4.50                   29          0  \n",
              "271   21.0       107.0   7.40     4.65                    0         -1  \n",
              "281   17.0       120.0   7.06     4.41                  149          0  \n",
              "286   25.0       104.0   8.31     4.93                  136          0  \n",
              "322   27.0       110.0   7.75     4.71                  187          0  \n",
              "\n",
              "[3421 rows x 13 columns]"
            ],
            "text/html": [
              "\n",
              "  <div id=\"df-189b98d7-8263-409a-9999-90d970906837\">\n",
              "    <div class=\"colab-df-container\">\n",
              "      <div>\n",
              "<style scoped>\n",
              "    .dataframe tbody tr th:only-of-type {\n",
              "        vertical-align: middle;\n",
              "    }\n",
              "\n",
              "    .dataframe tbody tr th {\n",
              "        vertical-align: top;\n",
              "    }\n",
              "\n",
              "    .dataframe thead th {\n",
              "        text-align: right;\n",
              "    }\n",
              "</style>\n",
              "<table border=\"1\" class=\"dataframe\">\n",
              "  <thead>\n",
              "    <tr style=\"text-align: right;\">\n",
              "      <th></th>\n",
              "      <th>Player</th>\n",
              "      <th>Pos</th>\n",
              "      <th>School</th>\n",
              "      <th>Ht</th>\n",
              "      <th>Wt</th>\n",
              "      <th>40yd</th>\n",
              "      <th>Vertical</th>\n",
              "      <th>Bench</th>\n",
              "      <th>Broad Jump</th>\n",
              "      <th>3Cone</th>\n",
              "      <th>Shuttle</th>\n",
              "      <th>Drafted (tm/rnd/yr)</th>\n",
              "      <th>Experience</th>\n",
              "    </tr>\n",
              "  </thead>\n",
              "  <tbody>\n",
              "    <tr>\n",
              "      <th>2</th>\n",
              "      <td>Darnell Alford</td>\n",
              "      <td>OT</td>\n",
              "      <td>Boston Col.</td>\n",
              "      <td>76.0</td>\n",
              "      <td>334.0</td>\n",
              "      <td>5.56</td>\n",
              "      <td>25.0</td>\n",
              "      <td>23.0</td>\n",
              "      <td>94.0</td>\n",
              "      <td>8.48</td>\n",
              "      <td>4.98</td>\n",
              "      <td>188</td>\n",
              "      <td>4</td>\n",
              "    </tr>\n",
              "    <tr>\n",
              "      <th>7</th>\n",
              "      <td>Corey Atkins</td>\n",
              "      <td>OLB</td>\n",
              "      <td>South Carolina</td>\n",
              "      <td>72.0</td>\n",
              "      <td>237.0</td>\n",
              "      <td>4.72</td>\n",
              "      <td>31.0</td>\n",
              "      <td>21.0</td>\n",
              "      <td>112.0</td>\n",
              "      <td>7.96</td>\n",
              "      <td>4.39</td>\n",
              "      <td>0</td>\n",
              "      <td>0</td>\n",
              "    </tr>\n",
              "    <tr>\n",
              "      <th>9</th>\n",
              "      <td>Reggie Austin</td>\n",
              "      <td>CB</td>\n",
              "      <td>Wake Forest</td>\n",
              "      <td>69.0</td>\n",
              "      <td>175.0</td>\n",
              "      <td>4.44</td>\n",
              "      <td>35.0</td>\n",
              "      <td>17.0</td>\n",
              "      <td>119.0</td>\n",
              "      <td>7.03</td>\n",
              "      <td>4.14</td>\n",
              "      <td>125</td>\n",
              "      <td>2</td>\n",
              "    </tr>\n",
              "    <tr>\n",
              "      <th>11</th>\n",
              "      <td>Mark Baniewicz</td>\n",
              "      <td>OT</td>\n",
              "      <td>Syracuse</td>\n",
              "      <td>78.0</td>\n",
              "      <td>312.0</td>\n",
              "      <td>5.34</td>\n",
              "      <td>28.0</td>\n",
              "      <td>20.0</td>\n",
              "      <td>96.0</td>\n",
              "      <td>7.72</td>\n",
              "      <td>4.73</td>\n",
              "      <td>247</td>\n",
              "      <td>2</td>\n",
              "    </tr>\n",
              "    <tr>\n",
              "      <th>12</th>\n",
              "      <td>Rashidi Barnes</td>\n",
              "      <td>S</td>\n",
              "      <td>Colorado</td>\n",
              "      <td>72.0</td>\n",
              "      <td>208.0</td>\n",
              "      <td>4.62</td>\n",
              "      <td>35.0</td>\n",
              "      <td>10.0</td>\n",
              "      <td>114.0</td>\n",
              "      <td>6.92</td>\n",
              "      <td>4.32</td>\n",
              "      <td>225</td>\n",
              "      <td>0</td>\n",
              "    </tr>\n",
              "    <tr>\n",
              "      <th>...</th>\n",
              "      <td>...</td>\n",
              "      <td>...</td>\n",
              "      <td>...</td>\n",
              "      <td>...</td>\n",
              "      <td>...</td>\n",
              "      <td>...</td>\n",
              "      <td>...</td>\n",
              "      <td>...</td>\n",
              "      <td>...</td>\n",
              "      <td>...</td>\n",
              "      <td>...</td>\n",
              "      <td>...</td>\n",
              "      <td>...</td>\n",
              "    </tr>\n",
              "    <tr>\n",
              "      <th>261</th>\n",
              "      <td>Cole Strange</td>\n",
              "      <td>OG</td>\n",
              "      <td>Tennessee-Chattanooga</td>\n",
              "      <td>77.0</td>\n",
              "      <td>307.0</td>\n",
              "      <td>5.03</td>\n",
              "      <td>28.0</td>\n",
              "      <td>31.0</td>\n",
              "      <td>120.0</td>\n",
              "      <td>7.44</td>\n",
              "      <td>4.50</td>\n",
              "      <td>29</td>\n",
              "      <td>0</td>\n",
              "    </tr>\n",
              "    <tr>\n",
              "      <th>271</th>\n",
              "      <td>Zach Thomas</td>\n",
              "      <td>OG</td>\n",
              "      <td>San Diego St.</td>\n",
              "      <td>77.0</td>\n",
              "      <td>308.0</td>\n",
              "      <td>4.96</td>\n",
              "      <td>22.5</td>\n",
              "      <td>21.0</td>\n",
              "      <td>107.0</td>\n",
              "      <td>7.40</td>\n",
              "      <td>4.65</td>\n",
              "      <td>0</td>\n",
              "      <td>-1</td>\n",
              "    </tr>\n",
              "    <tr>\n",
              "      <th>281</th>\n",
              "      <td>Cole Turner</td>\n",
              "      <td>TE</td>\n",
              "      <td>Nevada</td>\n",
              "      <td>78.0</td>\n",
              "      <td>246.0</td>\n",
              "      <td>4.76</td>\n",
              "      <td>27.0</td>\n",
              "      <td>17.0</td>\n",
              "      <td>120.0</td>\n",
              "      <td>7.06</td>\n",
              "      <td>4.41</td>\n",
              "      <td>149</td>\n",
              "      <td>0</td>\n",
              "    </tr>\n",
              "    <tr>\n",
              "      <th>286</th>\n",
              "      <td>Cordell Volson</td>\n",
              "      <td>OG</td>\n",
              "      <td>North Dakota St.</td>\n",
              "      <td>78.0</td>\n",
              "      <td>315.0</td>\n",
              "      <td>5.27</td>\n",
              "      <td>25.0</td>\n",
              "      <td>25.0</td>\n",
              "      <td>104.0</td>\n",
              "      <td>8.31</td>\n",
              "      <td>4.93</td>\n",
              "      <td>136</td>\n",
              "      <td>0</td>\n",
              "    </tr>\n",
              "    <tr>\n",
              "      <th>322</th>\n",
              "      <td>Nick Zakelj</td>\n",
              "      <td>OT</td>\n",
              "      <td>Fordham</td>\n",
              "      <td>78.0</td>\n",
              "      <td>316.0</td>\n",
              "      <td>5.13</td>\n",
              "      <td>28.5</td>\n",
              "      <td>27.0</td>\n",
              "      <td>110.0</td>\n",
              "      <td>7.75</td>\n",
              "      <td>4.71</td>\n",
              "      <td>187</td>\n",
              "      <td>0</td>\n",
              "    </tr>\n",
              "  </tbody>\n",
              "</table>\n",
              "<p>3421 rows × 13 columns</p>\n",
              "</div>\n",
              "      <button class=\"colab-df-convert\" onclick=\"convertToInteractive('df-189b98d7-8263-409a-9999-90d970906837')\"\n",
              "              title=\"Convert this dataframe to an interactive table.\"\n",
              "              style=\"display:none;\">\n",
              "        \n",
              "  <svg xmlns=\"http://www.w3.org/2000/svg\" height=\"24px\"viewBox=\"0 0 24 24\"\n",
              "       width=\"24px\">\n",
              "    <path d=\"M0 0h24v24H0V0z\" fill=\"none\"/>\n",
              "    <path d=\"M18.56 5.44l.94 2.06.94-2.06 2.06-.94-2.06-.94-.94-2.06-.94 2.06-2.06.94zm-11 1L8.5 8.5l.94-2.06 2.06-.94-2.06-.94L8.5 2.5l-.94 2.06-2.06.94zm10 10l.94 2.06.94-2.06 2.06-.94-2.06-.94-.94-2.06-.94 2.06-2.06.94z\"/><path d=\"M17.41 7.96l-1.37-1.37c-.4-.4-.92-.59-1.43-.59-.52 0-1.04.2-1.43.59L10.3 9.45l-7.72 7.72c-.78.78-.78 2.05 0 2.83L4 21.41c.39.39.9.59 1.41.59.51 0 1.02-.2 1.41-.59l7.78-7.78 2.81-2.81c.8-.78.8-2.07 0-2.86zM5.41 20L4 18.59l7.72-7.72 1.47 1.35L5.41 20z\"/>\n",
              "  </svg>\n",
              "      </button>\n",
              "      \n",
              "  <style>\n",
              "    .colab-df-container {\n",
              "      display:flex;\n",
              "      flex-wrap:wrap;\n",
              "      gap: 12px;\n",
              "    }\n",
              "\n",
              "    .colab-df-convert {\n",
              "      background-color: #E8F0FE;\n",
              "      border: none;\n",
              "      border-radius: 50%;\n",
              "      cursor: pointer;\n",
              "      display: none;\n",
              "      fill: #1967D2;\n",
              "      height: 32px;\n",
              "      padding: 0 0 0 0;\n",
              "      width: 32px;\n",
              "    }\n",
              "\n",
              "    .colab-df-convert:hover {\n",
              "      background-color: #E2EBFA;\n",
              "      box-shadow: 0px 1px 2px rgba(60, 64, 67, 0.3), 0px 1px 3px 1px rgba(60, 64, 67, 0.15);\n",
              "      fill: #174EA6;\n",
              "    }\n",
              "\n",
              "    [theme=dark] .colab-df-convert {\n",
              "      background-color: #3B4455;\n",
              "      fill: #D2E3FC;\n",
              "    }\n",
              "\n",
              "    [theme=dark] .colab-df-convert:hover {\n",
              "      background-color: #434B5C;\n",
              "      box-shadow: 0px 1px 3px 1px rgba(0, 0, 0, 0.15);\n",
              "      filter: drop-shadow(0px 1px 2px rgba(0, 0, 0, 0.3));\n",
              "      fill: #FFFFFF;\n",
              "    }\n",
              "  </style>\n",
              "\n",
              "      <script>\n",
              "        const buttonEl =\n",
              "          document.querySelector('#df-189b98d7-8263-409a-9999-90d970906837 button.colab-df-convert');\n",
              "        buttonEl.style.display =\n",
              "          google.colab.kernel.accessAllowed ? 'block' : 'none';\n",
              "\n",
              "        async function convertToInteractive(key) {\n",
              "          const element = document.querySelector('#df-189b98d7-8263-409a-9999-90d970906837');\n",
              "          const dataTable =\n",
              "            await google.colab.kernel.invokeFunction('convertToInteractive',\n",
              "                                                     [key], {});\n",
              "          if (!dataTable) return;\n",
              "\n",
              "          const docLinkHtml = 'Like what you see? Visit the ' +\n",
              "            '<a target=\"_blank\" href=https://colab.research.google.com/notebooks/data_table.ipynb>data table notebook</a>'\n",
              "            + ' to learn more about interactive tables.';\n",
              "          element.innerHTML = '';\n",
              "          dataTable['output_type'] = 'display_data';\n",
              "          await google.colab.output.renderOutput(dataTable, element);\n",
              "          const docLink = document.createElement('div');\n",
              "          docLink.innerHTML = docLinkHtml;\n",
              "          element.appendChild(docLink);\n",
              "        }\n",
              "      </script>\n",
              "    </div>\n",
              "  </div>\n",
              "  "
            ]
          },
          "metadata": {},
          "execution_count": 94
        }
      ]
    },
    {
      "cell_type": "code",
      "source": [
        "df.to_csv('updated.csv')"
      ],
      "metadata": {
        "id": "OeEAM3AWPeh1"
      },
      "execution_count": 96,
      "outputs": []
    },
    {
      "cell_type": "code",
      "source": [
        "exp.count('0') + exp.count(-1)"
      ],
      "metadata": {
        "colab": {
          "base_uri": "https://localhost:8080/"
        },
        "id": "xN3LD0fgPnSl",
        "outputId": "e69e671b-5438-483c-e05f-1d0a8c8e4f8b"
      },
      "execution_count": 103,
      "outputs": [
        {
          "output_type": "execute_result",
          "data": {
            "text/plain": [
              "2297"
            ]
          },
          "metadata": {},
          "execution_count": 103
        }
      ]
    },
    {
      "cell_type": "code",
      "source": [
        "df2 = df.dropna()\n",
        "x = list(df2['Experience'])\n",
        "x.count('0') + x.count(-1)"
      ],
      "metadata": {
        "colab": {
          "base_uri": "https://localhost:8080/"
        },
        "id": "i8FivZ2jP21N",
        "outputId": "444cc251-b315-4c90-9e32-fe2900cb8c23"
      },
      "execution_count": 104,
      "outputs": [
        {
          "output_type": "execute_result",
          "data": {
            "text/plain": [
              "849"
            ]
          },
          "metadata": {},
          "execution_count": 104
        }
      ]
    },
    {
      "cell_type": "code",
      "source": [],
      "metadata": {
        "id": "Geeq2CwpQOFX"
      },
      "execution_count": null,
      "outputs": []
    }
  ]
}