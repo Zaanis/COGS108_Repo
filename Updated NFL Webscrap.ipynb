{
  "nbformat": 4,
  "nbformat_minor": 0,
  "metadata": {
    "colab": {
      "provenance": []
    },
    "kernelspec": {
      "name": "python3",
      "display_name": "Python 3"
    },
    "language_info": {
      "name": "python"
    },
    "gpuClass": "standard"
  },
  "cells": [
    {
      "cell_type": "code",
      "execution_count": 1,
      "metadata": {
        "id": "6wEZR11MIqw8"
      },
      "outputs": [],
      "source": [
        "import pandas as pd\n",
        "import numpy\n",
        "import pandas as pd\n",
        "from bs4 import BeautifulSoup\n",
        "import requests\n",
        "from urllib.request import Request, urlopen"
      ]
    },
    {
      "cell_type": "markdown",
      "source": [
        "Dataframe of draft combine data 2000 - 2022, exported from Pro Football Reference (PFR) and uploaded to my github\n",
        "\n"
      ],
      "metadata": {
        "id": "EX-4Uoh2oySj"
      }
    },
    {
      "cell_type": "code",
      "source": [
        "df = pd.DataFrame()\n",
        "for year in list(range(2000, 2023)):\n",
        "  df2 = pd.read_csv(\"https://raw.githubusercontent.com/Zaanis/Cogs108-Project/main/{}.csv\".format(year))\n",
        "  df2['Drafted (tm/rnd/yr)'] = df2['Drafted (tm/rnd/yr)'].str.split('/').str[2].str.split('th').str[0].str.split('nd').str[0].str.split('st').str[0].str.split('rd').str[0].fillna(0).astype(int)\n",
        "  df = pd.concat([df, df2])"
      ],
      "metadata": {
        "id": "CbnYPj_PzK5w"
      },
      "execution_count": 2,
      "outputs": []
    },
    {
      "cell_type": "code",
      "source": [
        "df = df.drop(columns =['College'])"
      ],
      "metadata": {
        "id": "ArNj6klqXwOt"
      },
      "execution_count": 3,
      "outputs": []
    },
    {
      "cell_type": "code",
      "source": [
        "df"
      ],
      "metadata": {
        "colab": {
          "base_uri": "https://localhost:8080/",
          "height": 424
        },
        "id": "A-ise2dQ7M4h",
        "outputId": "529e8ae4-7dc3-4446-ba6e-7f99ebdd7f5c"
      },
      "execution_count": 4,
      "outputs": [
        {
          "output_type": "execute_result",
          "data": {
            "text/plain": [
              "               Player  Pos            School      Ht     Wt  40yd  Vertical  \\\n",
              "0        John Abraham  OLB    South Carolina   4-Jun  252.0  4.55       NaN   \n",
              "1     Shaun Alexander   RB           Alabama  Jun-00  218.0  4.58       NaN   \n",
              "2      Darnell Alford   OT       Boston Col.   4-Jun  334.0  5.56      25.0   \n",
              "3        Kyle Allamon   TE        Texas Tech   2-Jun  253.0  4.97      29.0   \n",
              "4    Rashard Anderson   CB     Jackson State   2-Jun  206.0  4.55      34.0   \n",
              "..                ...  ...               ...     ...    ...   ...       ...   \n",
              "319     Devonte Wyatt   DT           Georgia   3-Jun  304.0  4.77      29.0   \n",
              "320   Jalen Wydermyer   TE         Texas A&M   4-Jun  255.0   NaN       NaN   \n",
              "321         Cade York    K               LSU   1-Jun  206.0   NaN       NaN   \n",
              "322       Nick Zakelj   OT           Fordham   6-Jun  316.0  5.13      28.5   \n",
              "323      Bailey Zappe   QB  Western Kentucky   1-Jun  215.0  4.88      30.0   \n",
              "\n",
              "     Bench  Broad Jump  3Cone  Shuttle  Drafted (tm/rnd/yr)  \n",
              "0      NaN         NaN    NaN      NaN                   13  \n",
              "1      NaN         NaN    NaN      NaN                   19  \n",
              "2     23.0        94.0   8.48     4.98                  188  \n",
              "3      NaN       104.0   7.29     4.49                    0  \n",
              "4      NaN       123.0   7.18     4.15                   23  \n",
              "..     ...         ...    ...      ...                  ...  \n",
              "319    NaN       111.0    NaN      NaN                   28  \n",
              "320    NaN         NaN    NaN      NaN                    0  \n",
              "321   12.0         NaN    NaN      NaN                  124  \n",
              "322   27.0       110.0   7.75     4.71                  187  \n",
              "323    NaN       109.0   7.19     4.40                  137  \n",
              "\n",
              "[7680 rows x 12 columns]"
            ],
            "text/html": [
              "\n",
              "  <div id=\"df-17480af6-69c0-4274-ab45-fd10170e7c44\">\n",
              "    <div class=\"colab-df-container\">\n",
              "      <div>\n",
              "<style scoped>\n",
              "    .dataframe tbody tr th:only-of-type {\n",
              "        vertical-align: middle;\n",
              "    }\n",
              "\n",
              "    .dataframe tbody tr th {\n",
              "        vertical-align: top;\n",
              "    }\n",
              "\n",
              "    .dataframe thead th {\n",
              "        text-align: right;\n",
              "    }\n",
              "</style>\n",
              "<table border=\"1\" class=\"dataframe\">\n",
              "  <thead>\n",
              "    <tr style=\"text-align: right;\">\n",
              "      <th></th>\n",
              "      <th>Player</th>\n",
              "      <th>Pos</th>\n",
              "      <th>School</th>\n",
              "      <th>Ht</th>\n",
              "      <th>Wt</th>\n",
              "      <th>40yd</th>\n",
              "      <th>Vertical</th>\n",
              "      <th>Bench</th>\n",
              "      <th>Broad Jump</th>\n",
              "      <th>3Cone</th>\n",
              "      <th>Shuttle</th>\n",
              "      <th>Drafted (tm/rnd/yr)</th>\n",
              "    </tr>\n",
              "  </thead>\n",
              "  <tbody>\n",
              "    <tr>\n",
              "      <th>0</th>\n",
              "      <td>John Abraham</td>\n",
              "      <td>OLB</td>\n",
              "      <td>South Carolina</td>\n",
              "      <td>4-Jun</td>\n",
              "      <td>252.0</td>\n",
              "      <td>4.55</td>\n",
              "      <td>NaN</td>\n",
              "      <td>NaN</td>\n",
              "      <td>NaN</td>\n",
              "      <td>NaN</td>\n",
              "      <td>NaN</td>\n",
              "      <td>13</td>\n",
              "    </tr>\n",
              "    <tr>\n",
              "      <th>1</th>\n",
              "      <td>Shaun Alexander</td>\n",
              "      <td>RB</td>\n",
              "      <td>Alabama</td>\n",
              "      <td>Jun-00</td>\n",
              "      <td>218.0</td>\n",
              "      <td>4.58</td>\n",
              "      <td>NaN</td>\n",
              "      <td>NaN</td>\n",
              "      <td>NaN</td>\n",
              "      <td>NaN</td>\n",
              "      <td>NaN</td>\n",
              "      <td>19</td>\n",
              "    </tr>\n",
              "    <tr>\n",
              "      <th>2</th>\n",
              "      <td>Darnell Alford</td>\n",
              "      <td>OT</td>\n",
              "      <td>Boston Col.</td>\n",
              "      <td>4-Jun</td>\n",
              "      <td>334.0</td>\n",
              "      <td>5.56</td>\n",
              "      <td>25.0</td>\n",
              "      <td>23.0</td>\n",
              "      <td>94.0</td>\n",
              "      <td>8.48</td>\n",
              "      <td>4.98</td>\n",
              "      <td>188</td>\n",
              "    </tr>\n",
              "    <tr>\n",
              "      <th>3</th>\n",
              "      <td>Kyle Allamon</td>\n",
              "      <td>TE</td>\n",
              "      <td>Texas Tech</td>\n",
              "      <td>2-Jun</td>\n",
              "      <td>253.0</td>\n",
              "      <td>4.97</td>\n",
              "      <td>29.0</td>\n",
              "      <td>NaN</td>\n",
              "      <td>104.0</td>\n",
              "      <td>7.29</td>\n",
              "      <td>4.49</td>\n",
              "      <td>0</td>\n",
              "    </tr>\n",
              "    <tr>\n",
              "      <th>4</th>\n",
              "      <td>Rashard Anderson</td>\n",
              "      <td>CB</td>\n",
              "      <td>Jackson State</td>\n",
              "      <td>2-Jun</td>\n",
              "      <td>206.0</td>\n",
              "      <td>4.55</td>\n",
              "      <td>34.0</td>\n",
              "      <td>NaN</td>\n",
              "      <td>123.0</td>\n",
              "      <td>7.18</td>\n",
              "      <td>4.15</td>\n",
              "      <td>23</td>\n",
              "    </tr>\n",
              "    <tr>\n",
              "      <th>...</th>\n",
              "      <td>...</td>\n",
              "      <td>...</td>\n",
              "      <td>...</td>\n",
              "      <td>...</td>\n",
              "      <td>...</td>\n",
              "      <td>...</td>\n",
              "      <td>...</td>\n",
              "      <td>...</td>\n",
              "      <td>...</td>\n",
              "      <td>...</td>\n",
              "      <td>...</td>\n",
              "      <td>...</td>\n",
              "    </tr>\n",
              "    <tr>\n",
              "      <th>319</th>\n",
              "      <td>Devonte Wyatt</td>\n",
              "      <td>DT</td>\n",
              "      <td>Georgia</td>\n",
              "      <td>3-Jun</td>\n",
              "      <td>304.0</td>\n",
              "      <td>4.77</td>\n",
              "      <td>29.0</td>\n",
              "      <td>NaN</td>\n",
              "      <td>111.0</td>\n",
              "      <td>NaN</td>\n",
              "      <td>NaN</td>\n",
              "      <td>28</td>\n",
              "    </tr>\n",
              "    <tr>\n",
              "      <th>320</th>\n",
              "      <td>Jalen Wydermyer</td>\n",
              "      <td>TE</td>\n",
              "      <td>Texas A&amp;M</td>\n",
              "      <td>4-Jun</td>\n",
              "      <td>255.0</td>\n",
              "      <td>NaN</td>\n",
              "      <td>NaN</td>\n",
              "      <td>NaN</td>\n",
              "      <td>NaN</td>\n",
              "      <td>NaN</td>\n",
              "      <td>NaN</td>\n",
              "      <td>0</td>\n",
              "    </tr>\n",
              "    <tr>\n",
              "      <th>321</th>\n",
              "      <td>Cade York</td>\n",
              "      <td>K</td>\n",
              "      <td>LSU</td>\n",
              "      <td>1-Jun</td>\n",
              "      <td>206.0</td>\n",
              "      <td>NaN</td>\n",
              "      <td>NaN</td>\n",
              "      <td>12.0</td>\n",
              "      <td>NaN</td>\n",
              "      <td>NaN</td>\n",
              "      <td>NaN</td>\n",
              "      <td>124</td>\n",
              "    </tr>\n",
              "    <tr>\n",
              "      <th>322</th>\n",
              "      <td>Nick Zakelj</td>\n",
              "      <td>OT</td>\n",
              "      <td>Fordham</td>\n",
              "      <td>6-Jun</td>\n",
              "      <td>316.0</td>\n",
              "      <td>5.13</td>\n",
              "      <td>28.5</td>\n",
              "      <td>27.0</td>\n",
              "      <td>110.0</td>\n",
              "      <td>7.75</td>\n",
              "      <td>4.71</td>\n",
              "      <td>187</td>\n",
              "    </tr>\n",
              "    <tr>\n",
              "      <th>323</th>\n",
              "      <td>Bailey Zappe</td>\n",
              "      <td>QB</td>\n",
              "      <td>Western Kentucky</td>\n",
              "      <td>1-Jun</td>\n",
              "      <td>215.0</td>\n",
              "      <td>4.88</td>\n",
              "      <td>30.0</td>\n",
              "      <td>NaN</td>\n",
              "      <td>109.0</td>\n",
              "      <td>7.19</td>\n",
              "      <td>4.40</td>\n",
              "      <td>137</td>\n",
              "    </tr>\n",
              "  </tbody>\n",
              "</table>\n",
              "<p>7680 rows × 12 columns</p>\n",
              "</div>\n",
              "      <button class=\"colab-df-convert\" onclick=\"convertToInteractive('df-17480af6-69c0-4274-ab45-fd10170e7c44')\"\n",
              "              title=\"Convert this dataframe to an interactive table.\"\n",
              "              style=\"display:none;\">\n",
              "        \n",
              "  <svg xmlns=\"http://www.w3.org/2000/svg\" height=\"24px\"viewBox=\"0 0 24 24\"\n",
              "       width=\"24px\">\n",
              "    <path d=\"M0 0h24v24H0V0z\" fill=\"none\"/>\n",
              "    <path d=\"M18.56 5.44l.94 2.06.94-2.06 2.06-.94-2.06-.94-.94-2.06-.94 2.06-2.06.94zm-11 1L8.5 8.5l.94-2.06 2.06-.94-2.06-.94L8.5 2.5l-.94 2.06-2.06.94zm10 10l.94 2.06.94-2.06 2.06-.94-2.06-.94-.94-2.06-.94 2.06-2.06.94z\"/><path d=\"M17.41 7.96l-1.37-1.37c-.4-.4-.92-.59-1.43-.59-.52 0-1.04.2-1.43.59L10.3 9.45l-7.72 7.72c-.78.78-.78 2.05 0 2.83L4 21.41c.39.39.9.59 1.41.59.51 0 1.02-.2 1.41-.59l7.78-7.78 2.81-2.81c.8-.78.8-2.07 0-2.86zM5.41 20L4 18.59l7.72-7.72 1.47 1.35L5.41 20z\"/>\n",
              "  </svg>\n",
              "      </button>\n",
              "      \n",
              "  <style>\n",
              "    .colab-df-container {\n",
              "      display:flex;\n",
              "      flex-wrap:wrap;\n",
              "      gap: 12px;\n",
              "    }\n",
              "\n",
              "    .colab-df-convert {\n",
              "      background-color: #E8F0FE;\n",
              "      border: none;\n",
              "      border-radius: 50%;\n",
              "      cursor: pointer;\n",
              "      display: none;\n",
              "      fill: #1967D2;\n",
              "      height: 32px;\n",
              "      padding: 0 0 0 0;\n",
              "      width: 32px;\n",
              "    }\n",
              "\n",
              "    .colab-df-convert:hover {\n",
              "      background-color: #E2EBFA;\n",
              "      box-shadow: 0px 1px 2px rgba(60, 64, 67, 0.3), 0px 1px 3px 1px rgba(60, 64, 67, 0.15);\n",
              "      fill: #174EA6;\n",
              "    }\n",
              "\n",
              "    [theme=dark] .colab-df-convert {\n",
              "      background-color: #3B4455;\n",
              "      fill: #D2E3FC;\n",
              "    }\n",
              "\n",
              "    [theme=dark] .colab-df-convert:hover {\n",
              "      background-color: #434B5C;\n",
              "      box-shadow: 0px 1px 3px 1px rgba(0, 0, 0, 0.15);\n",
              "      filter: drop-shadow(0px 1px 2px rgba(0, 0, 0, 0.3));\n",
              "      fill: #FFFFFF;\n",
              "    }\n",
              "  </style>\n",
              "\n",
              "      <script>\n",
              "        const buttonEl =\n",
              "          document.querySelector('#df-17480af6-69c0-4274-ab45-fd10170e7c44 button.colab-df-convert');\n",
              "        buttonEl.style.display =\n",
              "          google.colab.kernel.accessAllowed ? 'block' : 'none';\n",
              "\n",
              "        async function convertToInteractive(key) {\n",
              "          const element = document.querySelector('#df-17480af6-69c0-4274-ab45-fd10170e7c44');\n",
              "          const dataTable =\n",
              "            await google.colab.kernel.invokeFunction('convertToInteractive',\n",
              "                                                     [key], {});\n",
              "          if (!dataTable) return;\n",
              "\n",
              "          const docLinkHtml = 'Like what you see? Visit the ' +\n",
              "            '<a target=\"_blank\" href=https://colab.research.google.com/notebooks/data_table.ipynb>data table notebook</a>'\n",
              "            + ' to learn more about interactive tables.';\n",
              "          element.innerHTML = '';\n",
              "          dataTable['output_type'] = 'display_data';\n",
              "          await google.colab.output.renderOutput(dataTable, element);\n",
              "          const docLink = document.createElement('div');\n",
              "          docLink.innerHTML = docLinkHtml;\n",
              "          element.appendChild(docLink);\n",
              "        }\n",
              "      </script>\n",
              "    </div>\n",
              "  </div>\n",
              "  "
            ]
          },
          "metadata": {},
          "execution_count": 4
        }
      ]
    },
    {
      "cell_type": "code",
      "source": [
        "players = list(df['Player'])"
      ],
      "metadata": {
        "id": "oa7shQMy7zmn"
      },
      "execution_count": 5,
      "outputs": []
    },
    {
      "cell_type": "code",
      "source": [
        "'Antoine Winfield Jr.' in players"
      ],
      "metadata": {
        "colab": {
          "base_uri": "https://localhost:8080/"
        },
        "id": "GSH-k8N_4Nnf",
        "outputId": "76b12d85-3a37-4416-e054-677fef0f0727"
      },
      "execution_count": 6,
      "outputs": [
        {
          "output_type": "execute_result",
          "data": {
            "text/plain": [
              "True"
            ]
          },
          "metadata": {},
          "execution_count": 6
        }
      ]
    },
    {
      "cell_type": "markdown",
      "source": [
        "# Webscrap function\n"
      ],
      "metadata": {
        "id": "QsyaE4IJFOJM"
      }
    },
    {
      "cell_type": "code",
      "source": [
        "'T.J. Watt'.count('.')"
      ],
      "metadata": {
        "colab": {
          "base_uri": "https://localhost:8080/"
        },
        "id": "F4vMfCVx5V2q",
        "outputId": "bc16d0c4-7d57-41fb-d5dd-f8dadc3bb7c4"
      },
      "execution_count": 7,
      "outputs": [
        {
          "output_type": "execute_result",
          "data": {
            "text/plain": [
              "2"
            ]
          },
          "metadata": {},
          "execution_count": 7
        }
      ]
    },
    {
      "cell_type": "code",
      "source": [
        "def nfl_scrap(exp, dnp, names, year):\n",
        "  for name in names:\n",
        "    c = -1\n",
        "    if 'Jr.' in name:\n",
        "      name2 = name.replace('.', '')\n",
        "      splited = name2.split(' ')\n",
        "      player = '-'.join(splited)\n",
        "      player = player.replace('\\'', '-')\n",
        "    elif '.' in name:\n",
        "      name2 = name.replace('.', '-', name.count('.') - 1)\n",
        "      name2 = name2.replace('.', '')\n",
        "      splited = name2.split(' ')\n",
        "      player = '-'.join(splited)\n",
        "      player = player.replace('\\'', '-')\n",
        "    else:\n",
        "      splited = name.split(' ')\n",
        "      player = '-'.join(splited)\n",
        "      player = player.replace('\\'', '-')\n",
        "    url = \"https://www.nfl.com/players/{}/\".format(player)\n",
        "    page = requests.get(url)\n",
        "    soup = BeautifulSoup(page.content, 'html.parser')\n",
        "    lists = soup.find_all('ul', class_ = 'd3-o-list nfl-c-player-info__career-data')\n",
        "    for l in lists:\n",
        "      c = l.find('div', class_ = 'nfl-c-player-info__value').text\n",
        "    if c == -1 or int(c) > 2023 - year:\n",
        "      dnp.append(name)\n",
        "      exp.append(-1)\n",
        "    else:\n",
        "      exp.append(c)    "
      ],
      "metadata": {
        "id": "4ttwP2VFFQnB"
      },
      "execution_count": 8,
      "outputs": []
    },
    {
      "cell_type": "markdown",
      "source": [
        "## 2000"
      ],
      "metadata": {
        "id": "IDU4qdboHAGH"
      }
    },
    {
      "cell_type": "code",
      "source": [
        "players.index('Brian Young')"
      ],
      "metadata": {
        "colab": {
          "base_uri": "https://localhost:8080/"
        },
        "id": "oaQG-6D4HLnQ",
        "outputId": "6e58d655-5298-4292-9841-fade139d8120"
      },
      "execution_count": 9,
      "outputs": [
        {
          "output_type": "execute_result",
          "data": {
            "text/plain": [
              "320"
            ]
          },
          "metadata": {},
          "execution_count": 9
        }
      ]
    },
    {
      "cell_type": "code",
      "source": [
        "players[0:321][-1]"
      ],
      "metadata": {
        "colab": {
          "base_uri": "https://localhost:8080/",
          "height": 35
        },
        "id": "H8N4UDzLHUsF",
        "outputId": "ff068251-6c18-41c0-d406-dc65590349fb"
      },
      "execution_count": 10,
      "outputs": [
        {
          "output_type": "execute_result",
          "data": {
            "text/plain": [
              "'Brian Young'"
            ],
            "application/vnd.google.colaboratory.intrinsic+json": {
              "type": "string"
            }
          },
          "metadata": {},
          "execution_count": 10
        }
      ]
    },
    {
      "cell_type": "code",
      "source": [
        "exp0 = []\n",
        "dnp0 = []\n",
        "nfl_scrap(exp0, dnp0, players[0:321], 2000)"
      ],
      "metadata": {
        "id": "bsruJ3xiFfSS"
      },
      "execution_count": 11,
      "outputs": []
    },
    {
      "cell_type": "markdown",
      "source": [
        "## 2001"
      ],
      "metadata": {
        "id": "pf653yerIBBJ"
      }
    },
    {
      "cell_type": "code",
      "source": [
        "players.index('Paul Zukauskas')"
      ],
      "metadata": {
        "id": "oiQG3XWHICTE",
        "colab": {
          "base_uri": "https://localhost:8080/"
        },
        "outputId": "75f074bc-a425-4429-d3b7-7e16c89b5aa7"
      },
      "execution_count": 12,
      "outputs": [
        {
          "output_type": "execute_result",
          "data": {
            "text/plain": [
              "641"
            ]
          },
          "metadata": {},
          "execution_count": 12
        }
      ]
    },
    {
      "cell_type": "code",
      "source": [
        "players[321:642][-1]"
      ],
      "metadata": {
        "id": "kLhGmIjQILaa",
        "colab": {
          "base_uri": "https://localhost:8080/",
          "height": 35
        },
        "outputId": "8d9b5f25-8e51-4d24-ce5b-79968dc552d8"
      },
      "execution_count": 13,
      "outputs": [
        {
          "output_type": "execute_result",
          "data": {
            "text/plain": [
              "'Paul Zukauskas'"
            ],
            "application/vnd.google.colaboratory.intrinsic+json": {
              "type": "string"
            }
          },
          "metadata": {},
          "execution_count": 13
        }
      ]
    },
    {
      "cell_type": "code",
      "source": [
        "exp1 = []\n",
        "dnp1 = []\n",
        "nfl_scrap(exp1, dnp1, players[321:642], 2001)"
      ],
      "metadata": {
        "id": "UP7utPneIVhO"
      },
      "execution_count": 14,
      "outputs": []
    },
    {
      "cell_type": "markdown",
      "source": [
        "## 2002"
      ],
      "metadata": {
        "id": "YbA9GFRJIZOF"
      }
    },
    {
      "cell_type": "code",
      "source": [
        "players.index('Greg Zolman')"
      ],
      "metadata": {
        "id": "bdAuNuqOIeQ8",
        "colab": {
          "base_uri": "https://localhost:8080/"
        },
        "outputId": "8fc58bc5-76a9-4c95-f2d4-1acf299202b7"
      },
      "execution_count": 15,
      "outputs": [
        {
          "output_type": "execute_result",
          "data": {
            "text/plain": [
              "961"
            ]
          },
          "metadata": {},
          "execution_count": 15
        }
      ]
    },
    {
      "cell_type": "code",
      "source": [
        "players[642:962][-1]"
      ],
      "metadata": {
        "id": "pQEzhhJ6IjiP",
        "colab": {
          "base_uri": "https://localhost:8080/",
          "height": 35
        },
        "outputId": "44ec5881-d848-46bf-f921-36bc2f9c6479"
      },
      "execution_count": 16,
      "outputs": [
        {
          "output_type": "execute_result",
          "data": {
            "text/plain": [
              "'Greg Zolman'"
            ],
            "application/vnd.google.colaboratory.intrinsic+json": {
              "type": "string"
            }
          },
          "metadata": {},
          "execution_count": 16
        }
      ]
    },
    {
      "cell_type": "code",
      "source": [
        "exp2 = []\n",
        "dnp2 = []\n",
        "nfl_scrap(exp2, dnp2, players[642:962], 2002)"
      ],
      "metadata": {
        "id": "achOU9__Inzg"
      },
      "execution_count": 17,
      "outputs": []
    },
    {
      "cell_type": "markdown",
      "source": [
        "## 2003"
      ],
      "metadata": {
        "id": "hXUSwfilIqWC"
      }
    },
    {
      "cell_type": "code",
      "source": [
        "players.index('Doug Zeigler')"
      ],
      "metadata": {
        "id": "fVbUGPgDIuc9",
        "colab": {
          "base_uri": "https://localhost:8080/"
        },
        "outputId": "a0fdd4e0-9fc1-46da-db91-04f4d4bad93d"
      },
      "execution_count": 18,
      "outputs": [
        {
          "output_type": "execute_result",
          "data": {
            "text/plain": [
              "1280"
            ]
          },
          "metadata": {},
          "execution_count": 18
        }
      ]
    },
    {
      "cell_type": "code",
      "source": [
        "players[962:1281][-1]"
      ],
      "metadata": {
        "id": "ESDmETumIwzO",
        "colab": {
          "base_uri": "https://localhost:8080/",
          "height": 35
        },
        "outputId": "fc1965e3-4039-4e20-82c6-67df14826a21"
      },
      "execution_count": 19,
      "outputs": [
        {
          "output_type": "execute_result",
          "data": {
            "text/plain": [
              "'Doug Zeigler'"
            ],
            "application/vnd.google.colaboratory.intrinsic+json": {
              "type": "string"
            }
          },
          "metadata": {},
          "execution_count": 19
        }
      ]
    },
    {
      "cell_type": "code",
      "source": [
        "exp3 = []\n",
        "dnp3 = []\n",
        "nfl_scrap(exp3, dnp3, players[962:1281], 2003)"
      ],
      "metadata": {
        "id": "LZZAIow2I2hO"
      },
      "execution_count": 20,
      "outputs": []
    },
    {
      "cell_type": "markdown",
      "source": [
        "## 2004"
      ],
      "metadata": {
        "id": "ec_Lv7rPI6TY"
      }
    },
    {
      "cell_type": "code",
      "source": [
        "players.index('Kevin Youngblood')"
      ],
      "metadata": {
        "id": "wr3O9w_uI4tp",
        "colab": {
          "base_uri": "https://localhost:8080/"
        },
        "outputId": "82c6d08d-c49b-4563-dea8-f3e299696dd1"
      },
      "execution_count": 21,
      "outputs": [
        {
          "output_type": "execute_result",
          "data": {
            "text/plain": [
              "1615"
            ]
          },
          "metadata": {},
          "execution_count": 21
        }
      ]
    },
    {
      "cell_type": "code",
      "source": [
        "players[1281:1616][-1]"
      ],
      "metadata": {
        "id": "J87qW8WqJA7p",
        "colab": {
          "base_uri": "https://localhost:8080/",
          "height": 35
        },
        "outputId": "a3c27ad4-52a3-4d11-d705-6c07ad197cb6"
      },
      "execution_count": 22,
      "outputs": [
        {
          "output_type": "execute_result",
          "data": {
            "text/plain": [
              "'Kevin Youngblood'"
            ],
            "application/vnd.google.colaboratory.intrinsic+json": {
              "type": "string"
            }
          },
          "metadata": {},
          "execution_count": 22
        }
      ]
    },
    {
      "cell_type": "code",
      "source": [
        "exp4 = []\n",
        "dnp4 = []\n",
        "nfl_scrap(exp4, dnp4, players[1281:1616], 2004)"
      ],
      "metadata": {
        "id": "slCNa4dnJEiV"
      },
      "execution_count": 23,
      "outputs": []
    },
    {
      "cell_type": "markdown",
      "source": [
        "## 2005"
      ],
      "metadata": {
        "id": "9aIUBy8gJWL0"
      }
    },
    {
      "cell_type": "code",
      "source": [
        "players.index('Scott Young')"
      ],
      "metadata": {
        "id": "kM2aGaRdJXMU",
        "colab": {
          "base_uri": "https://localhost:8080/"
        },
        "outputId": "f5b873d6-e45c-4e89-dcb2-06da974e2bfd"
      },
      "execution_count": 24,
      "outputs": [
        {
          "output_type": "execute_result",
          "data": {
            "text/plain": [
              "1946"
            ]
          },
          "metadata": {},
          "execution_count": 24
        }
      ]
    },
    {
      "cell_type": "code",
      "source": [
        "players[1616:1947][-1]"
      ],
      "metadata": {
        "id": "PKbQhHSHJkPU",
        "colab": {
          "base_uri": "https://localhost:8080/",
          "height": 35
        },
        "outputId": "76ef3200-9051-40fb-f938-78db14b286a7"
      },
      "execution_count": 25,
      "outputs": [
        {
          "output_type": "execute_result",
          "data": {
            "text/plain": [
              "'Scott Young'"
            ],
            "application/vnd.google.colaboratory.intrinsic+json": {
              "type": "string"
            }
          },
          "metadata": {},
          "execution_count": 25
        }
      ]
    },
    {
      "cell_type": "code",
      "source": [
        "exp5 = []\n",
        "dnp5 = []\n",
        "nfl_scrap(exp5, dnp5, players[1616:1947], 2005)"
      ],
      "metadata": {
        "id": "OyZ2bMViJop1"
      },
      "execution_count": 26,
      "outputs": []
    },
    {
      "cell_type": "markdown",
      "source": [
        "## 2006"
      ],
      "metadata": {
        "id": "MQJszPmgJr7_"
      }
    },
    {
      "cell_type": "code",
      "source": [
        "players.index('Alan Zemaitis')"
      ],
      "metadata": {
        "id": "GPnpwpEaJvD-",
        "colab": {
          "base_uri": "https://localhost:8080/"
        },
        "outputId": "26b46943-8961-4ba1-e980-a24d358366d5"
      },
      "execution_count": 27,
      "outputs": [
        {
          "output_type": "execute_result",
          "data": {
            "text/plain": [
              "2274"
            ]
          },
          "metadata": {},
          "execution_count": 27
        }
      ]
    },
    {
      "cell_type": "code",
      "source": [
        "players[1947:2275][-1]"
      ],
      "metadata": {
        "id": "Gmt4SN3fJvLT",
        "colab": {
          "base_uri": "https://localhost:8080/",
          "height": 35
        },
        "outputId": "b338b75d-479e-4f93-b479-ee4dbe203883"
      },
      "execution_count": 28,
      "outputs": [
        {
          "output_type": "execute_result",
          "data": {
            "text/plain": [
              "'Alan Zemaitis'"
            ],
            "application/vnd.google.colaboratory.intrinsic+json": {
              "type": "string"
            }
          },
          "metadata": {},
          "execution_count": 28
        }
      ]
    },
    {
      "cell_type": "code",
      "source": [
        "exp6 = []\n",
        "dnp6 = []\n",
        "nfl_scrap(exp6, dnp6, players[1947:2275], 2006)"
      ],
      "metadata": {
        "id": "5-C-HUU9JvP-"
      },
      "execution_count": 29,
      "outputs": []
    },
    {
      "cell_type": "markdown",
      "source": [
        "## 2007"
      ],
      "metadata": {
        "id": "xqm3b7FtJ-94"
      }
    },
    {
      "cell_type": "code",
      "source": [
        "players.index('Jared Zabransky')"
      ],
      "metadata": {
        "id": "mZ2GRs4WJvSJ",
        "colab": {
          "base_uri": "https://localhost:8080/"
        },
        "outputId": "a7cd07b4-5267-4c32-a668-57f3c3037e01"
      },
      "execution_count": 30,
      "outputs": [
        {
          "output_type": "execute_result",
          "data": {
            "text/plain": [
              "2600"
            ]
          },
          "metadata": {},
          "execution_count": 30
        }
      ]
    },
    {
      "cell_type": "code",
      "source": [
        "players[2275:2601][-1]"
      ],
      "metadata": {
        "id": "zWAzMklHJvUM",
        "colab": {
          "base_uri": "https://localhost:8080/",
          "height": 35
        },
        "outputId": "7f904add-2314-4a87-b14c-19757c36f2a3"
      },
      "execution_count": 31,
      "outputs": [
        {
          "output_type": "execute_result",
          "data": {
            "text/plain": [
              "'Jared Zabransky'"
            ],
            "application/vnd.google.colaboratory.intrinsic+json": {
              "type": "string"
            }
          },
          "metadata": {},
          "execution_count": 31
        }
      ]
    },
    {
      "cell_type": "code",
      "source": [
        "exp7 = []\n",
        "dnp7 = []\n",
        "nfl_scrap(exp7, dnp7, players[2275:2601], 2007)"
      ],
      "metadata": {
        "id": "fy_1XDaaJvV2"
      },
      "execution_count": 32,
      "outputs": []
    },
    {
      "cell_type": "markdown",
      "source": [
        "## 2008"
      ],
      "metadata": {
        "id": "TKeXdFAuKPY0"
      }
    },
    {
      "cell_type": "code",
      "source": [
        "players.index('Jeremy Zuttah')"
      ],
      "metadata": {
        "id": "ZYM8WKlQJvsN",
        "colab": {
          "base_uri": "https://localhost:8080/"
        },
        "outputId": "0bceb9f9-b4ea-4e9f-e738-0be12db1dc7c"
      },
      "execution_count": 33,
      "outputs": [
        {
          "output_type": "execute_result",
          "data": {
            "text/plain": [
              "2930"
            ]
          },
          "metadata": {},
          "execution_count": 33
        }
      ]
    },
    {
      "cell_type": "code",
      "source": [
        "players[2601:2931][-1]"
      ],
      "metadata": {
        "id": "5sQdX9M8Jvuc",
        "colab": {
          "base_uri": "https://localhost:8080/",
          "height": 35
        },
        "outputId": "dfc6e0e7-a854-479a-e73d-b3e4db161bdd"
      },
      "execution_count": 34,
      "outputs": [
        {
          "output_type": "execute_result",
          "data": {
            "text/plain": [
              "'Jeremy Zuttah'"
            ],
            "application/vnd.google.colaboratory.intrinsic+json": {
              "type": "string"
            }
          },
          "metadata": {},
          "execution_count": 34
        }
      ]
    },
    {
      "cell_type": "code",
      "source": [
        "exp8 = []\n",
        "dnp8 = []\n",
        "nfl_scrap(exp8, dnp8, players[2601:2931], 2008)"
      ],
      "metadata": {
        "id": "BrrOlf46JvzW"
      },
      "execution_count": 35,
      "outputs": []
    },
    {
      "cell_type": "markdown",
      "source": [
        "## 2009"
      ],
      "metadata": {
        "id": "IvsAEROQKc09"
      }
    },
    {
      "cell_type": "code",
      "source": [
        "players.index('Jarius Wynn')"
      ],
      "metadata": {
        "id": "SZuW-b4CJv1A",
        "colab": {
          "base_uri": "https://localhost:8080/"
        },
        "outputId": "212a58b1-abfa-49cc-d1f8-15e20c0f9a46"
      },
      "execution_count": 40,
      "outputs": [
        {
          "output_type": "execute_result",
          "data": {
            "text/plain": [
              "3257"
            ]
          },
          "metadata": {},
          "execution_count": 40
        }
      ]
    },
    {
      "cell_type": "code",
      "source": [
        "players[2931:3258][-1]"
      ],
      "metadata": {
        "id": "erup-_lJJv2t",
        "colab": {
          "base_uri": "https://localhost:8080/",
          "height": 35
        },
        "outputId": "c582e8ad-af4b-458a-934b-f22434ff37e8"
      },
      "execution_count": 41,
      "outputs": [
        {
          "output_type": "execute_result",
          "data": {
            "text/plain": [
              "'Jarius Wynn'"
            ],
            "application/vnd.google.colaboratory.intrinsic+json": {
              "type": "string"
            }
          },
          "metadata": {},
          "execution_count": 41
        }
      ]
    },
    {
      "cell_type": "code",
      "source": [
        "exp9 = []\n",
        "dnp9 = []\n",
        "nfl_scrap(exp9, dnp9, players[2931:3258], 2009)"
      ],
      "metadata": {
        "id": "CMqmtg2hJv4g"
      },
      "execution_count": 42,
      "outputs": []
    },
    {
      "cell_type": "markdown",
      "source": [
        "## 2010"
      ],
      "metadata": {
        "id": "6ErNrlsXKrBE"
      }
    },
    {
      "cell_type": "code",
      "source": [
        "players.index('Willie Young')"
      ],
      "metadata": {
        "id": "s7uIKiipJv6U",
        "colab": {
          "base_uri": "https://localhost:8080/"
        },
        "outputId": "d4630834-97a6-4f43-c5cd-78bed39ec862"
      },
      "execution_count": 43,
      "outputs": [
        {
          "output_type": "execute_result",
          "data": {
            "text/plain": [
              "3583"
            ]
          },
          "metadata": {},
          "execution_count": 43
        }
      ]
    },
    {
      "cell_type": "code",
      "source": [
        "players[3258:3584][-1]"
      ],
      "metadata": {
        "id": "j4L6yC_HJv8J",
        "colab": {
          "base_uri": "https://localhost:8080/",
          "height": 35
        },
        "outputId": "b37561b9-f90e-4428-c250-f85fb7e420ad"
      },
      "execution_count": 44,
      "outputs": [
        {
          "output_type": "execute_result",
          "data": {
            "text/plain": [
              "'Willie Young'"
            ],
            "application/vnd.google.colaboratory.intrinsic+json": {
              "type": "string"
            }
          },
          "metadata": {},
          "execution_count": 44
        }
      ]
    },
    {
      "cell_type": "code",
      "source": [
        "exp10 = []\n",
        "dnp10 = []\n",
        "nfl_scrap(exp10, dnp10, players[3258:3584], 2010)"
      ],
      "metadata": {
        "id": "SCkVsLr8Jv91"
      },
      "execution_count": 45,
      "outputs": []
    },
    {
      "cell_type": "markdown",
      "source": [
        "## 2011"
      ],
      "metadata": {
        "id": "53xc_IsaK5IZ"
      }
    },
    {
      "cell_type": "code",
      "source": [
        "players.index('Lee Ziemba')"
      ],
      "metadata": {
        "id": "psnJFmQLK4Vw",
        "colab": {
          "base_uri": "https://localhost:8080/"
        },
        "outputId": "910a0d93-a2e6-410c-8231-d7595ce3c7cd"
      },
      "execution_count": 46,
      "outputs": [
        {
          "output_type": "execute_result",
          "data": {
            "text/plain": [
              "3912"
            ]
          },
          "metadata": {},
          "execution_count": 46
        }
      ]
    },
    {
      "cell_type": "code",
      "source": [
        "players[3584:3913][-1]"
      ],
      "metadata": {
        "id": "hawZZE8jJv_k",
        "colab": {
          "base_uri": "https://localhost:8080/",
          "height": 35
        },
        "outputId": "9f0359ba-134c-4ccb-fb66-dae4d805369e"
      },
      "execution_count": 47,
      "outputs": [
        {
          "output_type": "execute_result",
          "data": {
            "text/plain": [
              "'Lee Ziemba'"
            ],
            "application/vnd.google.colaboratory.intrinsic+json": {
              "type": "string"
            }
          },
          "metadata": {},
          "execution_count": 47
        }
      ]
    },
    {
      "cell_type": "code",
      "source": [
        "exp11 = []\n",
        "dnp11 = []\n",
        "nfl_scrap(exp11, dnp11,players[3584:3913] , 2011)"
      ],
      "metadata": {
        "id": "E-Ym3t1CJwBS"
      },
      "execution_count": 48,
      "outputs": []
    },
    {
      "cell_type": "markdown",
      "source": [
        "## 2012"
      ],
      "metadata": {
        "id": "W0ZWqBfuLIY_"
      }
    },
    {
      "cell_type": "code",
      "source": [
        "players.index('Markus Zusevics')"
      ],
      "metadata": {
        "id": "b8nbchBsJwDV",
        "colab": {
          "base_uri": "https://localhost:8080/"
        },
        "outputId": "a3dd9e02-ed5a-4a63-e9bd-0e53178acbab"
      },
      "execution_count": 49,
      "outputs": [
        {
          "output_type": "execute_result",
          "data": {
            "text/plain": [
              "4236"
            ]
          },
          "metadata": {},
          "execution_count": 49
        }
      ]
    },
    {
      "cell_type": "code",
      "source": [
        "players[3913:4237][-1]"
      ],
      "metadata": {
        "id": "YDJ0rVizJwFA",
        "colab": {
          "base_uri": "https://localhost:8080/",
          "height": 35
        },
        "outputId": "ccff78dc-958a-4f1e-e748-95a3f7b1be61"
      },
      "execution_count": 50,
      "outputs": [
        {
          "output_type": "execute_result",
          "data": {
            "text/plain": [
              "'Markus Zusevics'"
            ],
            "application/vnd.google.colaboratory.intrinsic+json": {
              "type": "string"
            }
          },
          "metadata": {},
          "execution_count": 50
        }
      ]
    },
    {
      "cell_type": "code",
      "source": [
        "exp12 = []\n",
        "dnp12 = []\n",
        "nfl_scrap(exp12, dnp12,players[3913:4237] , 2012)"
      ],
      "metadata": {
        "id": "SWISHbbeJwGe"
      },
      "execution_count": 51,
      "outputs": []
    },
    {
      "cell_type": "markdown",
      "source": [
        "## 2013"
      ],
      "metadata": {
        "id": "Q-ABtXA5LUou"
      }
    },
    {
      "cell_type": "code",
      "source": [
        "players.index('Blidi Wreh-Wilson')"
      ],
      "metadata": {
        "id": "6HCyKqY8JwIS",
        "colab": {
          "base_uri": "https://localhost:8080/"
        },
        "outputId": "9a13c4ea-68a9-4338-ab6e-fa168c3c548c"
      },
      "execution_count": 52,
      "outputs": [
        {
          "output_type": "execute_result",
          "data": {
            "text/plain": [
              "4568"
            ]
          },
          "metadata": {},
          "execution_count": 52
        }
      ]
    },
    {
      "cell_type": "code",
      "source": [
        "players[4237:4569][-1]"
      ],
      "metadata": {
        "id": "pYjboXCnJwKG",
        "colab": {
          "base_uri": "https://localhost:8080/",
          "height": 35
        },
        "outputId": "b6bda26f-aeb1-41b7-d217-d81d107479e2"
      },
      "execution_count": 53,
      "outputs": [
        {
          "output_type": "execute_result",
          "data": {
            "text/plain": [
              "'Blidi Wreh-Wilson'"
            ],
            "application/vnd.google.colaboratory.intrinsic+json": {
              "type": "string"
            }
          },
          "metadata": {},
          "execution_count": 53
        }
      ]
    },
    {
      "cell_type": "code",
      "source": [
        "exp13 = []\n",
        "dnp13 = []\n",
        "nfl_scrap(exp13, dnp13,players[4237:4569] , 2013)"
      ],
      "metadata": {
        "id": "dS8tOlfWJwL1"
      },
      "execution_count": 54,
      "outputs": []
    },
    {
      "cell_type": "markdown",
      "source": [
        "## 2014"
      ],
      "metadata": {
        "id": "ujQxp6g8Lk_P"
      }
    },
    {
      "cell_type": "code",
      "source": [
        "players.index('Jordan Zumwalt')"
      ],
      "metadata": {
        "id": "GyKad6vbJwNr",
        "colab": {
          "base_uri": "https://localhost:8080/"
        },
        "outputId": "c89f44c4-82a6-4e32-c4c3-aa0dd0321a65"
      },
      "execution_count": 55,
      "outputs": [
        {
          "output_type": "execute_result",
          "data": {
            "text/plain": [
              "4901"
            ]
          },
          "metadata": {},
          "execution_count": 55
        }
      ]
    },
    {
      "cell_type": "code",
      "source": [
        "players[4569:4902][-1]"
      ],
      "metadata": {
        "id": "A62mPYmfJwPV",
        "colab": {
          "base_uri": "https://localhost:8080/",
          "height": 35
        },
        "outputId": "863770c8-3253-4473-ca71-d50ac22d3255"
      },
      "execution_count": 56,
      "outputs": [
        {
          "output_type": "execute_result",
          "data": {
            "text/plain": [
              "'Jordan Zumwalt'"
            ],
            "application/vnd.google.colaboratory.intrinsic+json": {
              "type": "string"
            }
          },
          "metadata": {},
          "execution_count": 56
        }
      ]
    },
    {
      "cell_type": "code",
      "source": [
        "exp14 = []\n",
        "dnp14 = []\n",
        "nfl_scrap(exp14, dnp14,players[4569:4902], 2014)"
      ],
      "metadata": {
        "id": "_8hB3q8NJwRm"
      },
      "execution_count": 57,
      "outputs": []
    },
    {
      "cell_type": "markdown",
      "source": [
        "## 2015"
      ],
      "metadata": {
        "id": "8zNHU5sPL0Dr"
      }
    },
    {
      "cell_type": "code",
      "source": [
        "players.index('Zach Zenner')"
      ],
      "metadata": {
        "id": "2a_5cVdTLzOS",
        "colab": {
          "base_uri": "https://localhost:8080/"
        },
        "outputId": "819cbb98-efab-46b6-d274-c180e8733682"
      },
      "execution_count": 58,
      "outputs": [
        {
          "output_type": "execute_result",
          "data": {
            "text/plain": [
              "5223"
            ]
          },
          "metadata": {},
          "execution_count": 58
        }
      ]
    },
    {
      "cell_type": "code",
      "source": [
        "players[4902:5224][-1]"
      ],
      "metadata": {
        "id": "nPxtC2CnLzQR",
        "colab": {
          "base_uri": "https://localhost:8080/",
          "height": 35
        },
        "outputId": "c92ba823-e14c-48a2-d7af-799bac55075e"
      },
      "execution_count": 59,
      "outputs": [
        {
          "output_type": "execute_result",
          "data": {
            "text/plain": [
              "'Zach Zenner'"
            ],
            "application/vnd.google.colaboratory.intrinsic+json": {
              "type": "string"
            }
          },
          "metadata": {},
          "execution_count": 59
        }
      ]
    },
    {
      "cell_type": "code",
      "source": [
        "exp15 = []\n",
        "dnp15 = []\n",
        "nfl_scrap(exp15, dnp15,players[4902:5224], 2015)"
      ],
      "metadata": {
        "id": "f8lYIc-cLzSK"
      },
      "execution_count": 60,
      "outputs": []
    },
    {
      "cell_type": "markdown",
      "source": [
        "## 2016"
      ],
      "metadata": {
        "id": "fEwE9_Y7ML2H"
      }
    },
    {
      "cell_type": "code",
      "source": [
        "players.index('Anthony Zettel')"
      ],
      "metadata": {
        "id": "dCR05FgJLzVe",
        "colab": {
          "base_uri": "https://localhost:8080/"
        },
        "outputId": "de165953-78fd-4796-a8b8-6fde979d3f3b"
      },
      "execution_count": 61,
      "outputs": [
        {
          "output_type": "execute_result",
          "data": {
            "text/plain": [
              "5555"
            ]
          },
          "metadata": {},
          "execution_count": 61
        }
      ]
    },
    {
      "cell_type": "code",
      "source": [
        "players[5224:5556][-1]"
      ],
      "metadata": {
        "id": "Zm9TYlMnLzXd",
        "colab": {
          "base_uri": "https://localhost:8080/",
          "height": 35
        },
        "outputId": "3c354b8e-5707-4dd8-8846-0b30b85f11e3"
      },
      "execution_count": 62,
      "outputs": [
        {
          "output_type": "execute_result",
          "data": {
            "text/plain": [
              "'Anthony Zettel'"
            ],
            "application/vnd.google.colaboratory.intrinsic+json": {
              "type": "string"
            }
          },
          "metadata": {},
          "execution_count": 62
        }
      ]
    },
    {
      "cell_type": "code",
      "source": [
        "exp16 = []\n",
        "dnp16 = []\n",
        "nfl_scrap(exp16, dnp16,players[5224:5556], 2016)"
      ],
      "metadata": {
        "id": "RELzeeXPLzZB"
      },
      "execution_count": 63,
      "outputs": []
    },
    {
      "cell_type": "markdown",
      "source": [
        "## 2017"
      ],
      "metadata": {
        "id": "UTM34QPVMYpL"
      }
    },
    {
      "cell_type": "code",
      "source": [
        "players.index('Chris Wormley')"
      ],
      "metadata": {
        "id": "Ozv3Y1dvLza8",
        "colab": {
          "base_uri": "https://localhost:8080/"
        },
        "outputId": "a8576c7f-3847-4f57-d957-80cfd1ae7422"
      },
      "execution_count": 64,
      "outputs": [
        {
          "output_type": "execute_result",
          "data": {
            "text/plain": [
              "5882"
            ]
          },
          "metadata": {},
          "execution_count": 64
        }
      ]
    },
    {
      "cell_type": "code",
      "source": [
        "players[5556:5883][-1]"
      ],
      "metadata": {
        "id": "_BXcvWDlLzcw",
        "colab": {
          "base_uri": "https://localhost:8080/",
          "height": 35
        },
        "outputId": "be9eaa10-0d99-4013-9fbf-98bde217430c"
      },
      "execution_count": 65,
      "outputs": [
        {
          "output_type": "execute_result",
          "data": {
            "text/plain": [
              "'Chris Wormley'"
            ],
            "application/vnd.google.colaboratory.intrinsic+json": {
              "type": "string"
            }
          },
          "metadata": {},
          "execution_count": 65
        }
      ]
    },
    {
      "cell_type": "code",
      "source": [
        "exp17 = []\n",
        "dnp17 = []\n",
        "nfl_scrap(exp17, dnp17,players[5556:5883], 2017)"
      ],
      "metadata": {
        "id": "8RoRqO5fLzec"
      },
      "execution_count": 66,
      "outputs": []
    },
    {
      "cell_type": "markdown",
      "source": [
        "## 2018"
      ],
      "metadata": {
        "id": "gPdsKiwVMmYe"
      }
    },
    {
      "cell_type": "code",
      "source": [
        "players.index('Trevon Young')"
      ],
      "metadata": {
        "id": "bqwHRNCHLzgd",
        "colab": {
          "base_uri": "https://localhost:8080/"
        },
        "outputId": "9a6408b1-6c49-497c-ede5-19f17ef5a323"
      },
      "execution_count": 67,
      "outputs": [
        {
          "output_type": "execute_result",
          "data": {
            "text/plain": [
              "6218"
            ]
          },
          "metadata": {},
          "execution_count": 67
        }
      ]
    },
    {
      "cell_type": "code",
      "source": [
        "players[5883:6219][-1]"
      ],
      "metadata": {
        "id": "oESSt3jFLziK",
        "colab": {
          "base_uri": "https://localhost:8080/",
          "height": 35
        },
        "outputId": "339be7df-0b6a-4dd8-88a2-3fc0dbd8a904"
      },
      "execution_count": 68,
      "outputs": [
        {
          "output_type": "execute_result",
          "data": {
            "text/plain": [
              "'Trevon Young'"
            ],
            "application/vnd.google.colaboratory.intrinsic+json": {
              "type": "string"
            }
          },
          "metadata": {},
          "execution_count": 68
        }
      ]
    },
    {
      "cell_type": "code",
      "source": [
        "exp18 = []\n",
        "dnp18 = []\n",
        "nfl_scrap(exp18, dnp18,players[5883:6219], 2018)"
      ],
      "metadata": {
        "id": "NJc2iJLQLzjs"
      },
      "execution_count": 69,
      "outputs": []
    },
    {
      "cell_type": "markdown",
      "source": [
        "## 2019"
      ],
      "metadata": {
        "id": "raIzDFPSMy0O"
      }
    },
    {
      "cell_type": "code",
      "source": [
        "players.index('Rock Ya-Sin')"
      ],
      "metadata": {
        "id": "Sz0uFbkBLzlf",
        "colab": {
          "base_uri": "https://localhost:8080/"
        },
        "outputId": "16aa506d-68fd-42a0-ab53-0dd784f1bfe2"
      },
      "execution_count": 70,
      "outputs": [
        {
          "output_type": "execute_result",
          "data": {
            "text/plain": [
              "6554"
            ]
          },
          "metadata": {},
          "execution_count": 70
        }
      ]
    },
    {
      "cell_type": "code",
      "source": [
        "players[6219:6555][-1]"
      ],
      "metadata": {
        "id": "LsSyEdjVLznR",
        "colab": {
          "base_uri": "https://localhost:8080/",
          "height": 35
        },
        "outputId": "d60e2329-c092-4998-c1cc-7a7107ed4463"
      },
      "execution_count": 71,
      "outputs": [
        {
          "output_type": "execute_result",
          "data": {
            "text/plain": [
              "'Rock Ya-Sin'"
            ],
            "application/vnd.google.colaboratory.intrinsic+json": {
              "type": "string"
            }
          },
          "metadata": {},
          "execution_count": 71
        }
      ]
    },
    {
      "cell_type": "code",
      "source": [
        "exp19 = []\n",
        "dnp19 = []\n",
        "nfl_scrap(exp19, dnp19,players[6219:6555], 2019)"
      ],
      "metadata": {
        "id": "ZZ08rNe1Lzpg"
      },
      "execution_count": 72,
      "outputs": []
    },
    {
      "cell_type": "markdown",
      "source": [
        "## 2020"
      ],
      "metadata": {
        "id": "hWNjoQuHNGCu"
      }
    },
    {
      "cell_type": "code",
      "source": [
        "players.index('Jabari Zuniga')"
      ],
      "metadata": {
        "id": "lJJOrvTmNIbZ",
        "colab": {
          "base_uri": "https://localhost:8080/"
        },
        "outputId": "a8e40b41-d732-4170-95a3-fb83d4d68a0f"
      },
      "execution_count": 73,
      "outputs": [
        {
          "output_type": "execute_result",
          "data": {
            "text/plain": [
              "6891"
            ]
          },
          "metadata": {},
          "execution_count": 73
        }
      ]
    },
    {
      "cell_type": "code",
      "source": [
        "players[6555:6892][-1]"
      ],
      "metadata": {
        "id": "IbpZHohQNIko",
        "colab": {
          "base_uri": "https://localhost:8080/",
          "height": 35
        },
        "outputId": "35009fa0-916a-4e44-9bb1-e1f3f6024796"
      },
      "execution_count": 74,
      "outputs": [
        {
          "output_type": "execute_result",
          "data": {
            "text/plain": [
              "'Jabari Zuniga'"
            ],
            "application/vnd.google.colaboratory.intrinsic+json": {
              "type": "string"
            }
          },
          "metadata": {},
          "execution_count": 74
        }
      ]
    },
    {
      "cell_type": "code",
      "source": [
        "exp20 = []\n",
        "dnp20 = []\n",
        "nfl_scrap(exp20, dnp20,players[6555:6892], 2020)"
      ],
      "metadata": {
        "id": "kwsFaQOONIm4"
      },
      "execution_count": 75,
      "outputs": []
    },
    {
      "cell_type": "markdown",
      "source": [
        "## 2021"
      ],
      "metadata": {
        "id": "G9GLowLkNUQ-"
      }
    },
    {
      "cell_type": "code",
      "source": [
        "players.index('Landon Young')"
      ],
      "metadata": {
        "id": "uwB3CRVjNIos",
        "colab": {
          "base_uri": "https://localhost:8080/"
        },
        "outputId": "2e0da1c1-a33e-49c9-f8db-a7c1e681ce99"
      },
      "execution_count": 76,
      "outputs": [
        {
          "output_type": "execute_result",
          "data": {
            "text/plain": [
              "7355"
            ]
          },
          "metadata": {},
          "execution_count": 76
        }
      ]
    },
    {
      "cell_type": "code",
      "source": [
        "players[6892:7356][-1]"
      ],
      "metadata": {
        "id": "JPvarXiXNIqg",
        "colab": {
          "base_uri": "https://localhost:8080/",
          "height": 35
        },
        "outputId": "1c36c036-ba21-40dd-9121-3fa47494476a"
      },
      "execution_count": 77,
      "outputs": [
        {
          "output_type": "execute_result",
          "data": {
            "text/plain": [
              "'Landon Young'"
            ],
            "application/vnd.google.colaboratory.intrinsic+json": {
              "type": "string"
            }
          },
          "metadata": {},
          "execution_count": 77
        }
      ]
    },
    {
      "cell_type": "code",
      "source": [
        "exp21 = []\n",
        "dnp21 = []\n",
        "nfl_scrap(exp21, dnp21,players[6892:7356], 2021)"
      ],
      "metadata": {
        "id": "qAqWZSZWNIsJ"
      },
      "execution_count": 78,
      "outputs": []
    },
    {
      "cell_type": "markdown",
      "source": [
        "## 2022"
      ],
      "metadata": {
        "id": "07GvTAYgNh9y"
      }
    },
    {
      "cell_type": "code",
      "source": [
        "players.index('Bailey Zappe')"
      ],
      "metadata": {
        "id": "VCZhxb3SNl6m",
        "colab": {
          "base_uri": "https://localhost:8080/"
        },
        "outputId": "285e0675-f43f-41f1-de4d-cc81301e191e"
      },
      "execution_count": 79,
      "outputs": [
        {
          "output_type": "execute_result",
          "data": {
            "text/plain": [
              "7679"
            ]
          },
          "metadata": {},
          "execution_count": 79
        }
      ]
    },
    {
      "cell_type": "code",
      "source": [
        "players[7356:7680][-1]"
      ],
      "metadata": {
        "id": "qk7EvsNRNmAd",
        "colab": {
          "base_uri": "https://localhost:8080/",
          "height": 35
        },
        "outputId": "e9acf7e7-266e-4ef6-ee88-fed151359af1"
      },
      "execution_count": 80,
      "outputs": [
        {
          "output_type": "execute_result",
          "data": {
            "text/plain": [
              "'Bailey Zappe'"
            ],
            "application/vnd.google.colaboratory.intrinsic+json": {
              "type": "string"
            }
          },
          "metadata": {},
          "execution_count": 80
        }
      ]
    },
    {
      "cell_type": "code",
      "source": [
        "exp22 = []\n",
        "dnp22 = []\n",
        "nfl_scrap(exp22, dnp22,players[7356:7680], 2022)"
      ],
      "metadata": {
        "id": "ZXliJg2fNmCj"
      },
      "execution_count": 81,
      "outputs": []
    },
    {
      "cell_type": "code",
      "source": [
        "exp = []\n",
        "for i in range(0, 23):\n",
        "    exp += locals()[f\"exp{i}\"] "
      ],
      "metadata": {
        "id": "wuXTRFhMW_St"
      },
      "execution_count": 96,
      "outputs": []
    },
    {
      "cell_type": "code",
      "source": [
        "len(exp)"
      ],
      "metadata": {
        "colab": {
          "base_uri": "https://localhost:8080/"
        },
        "id": "fSMroMuZXtcY",
        "outputId": "14009a87-af4a-4406-be4c-dd1c25e5cb98"
      },
      "execution_count": 97,
      "outputs": [
        {
          "output_type": "execute_result",
          "data": {
            "text/plain": [
              "7680"
            ]
          },
          "metadata": {},
          "execution_count": 97
        }
      ]
    },
    {
      "cell_type": "code",
      "source": [
        "dnp = []\n",
        "for i in range(0, 23):\n",
        "    dnp += locals()[f\"dnp{i}\"] "
      ],
      "metadata": {
        "id": "VLOM_wcVXzGt"
      },
      "execution_count": 98,
      "outputs": []
    },
    {
      "cell_type": "code",
      "source": [
        "'J.J. Watt' in dnp, 'J.J. Watt' in players"
      ],
      "metadata": {
        "colab": {
          "base_uri": "https://localhost:8080/"
        },
        "id": "1kPBayznXEbC",
        "outputId": "015d610c-bfe0-4c99-cd38-588582f3e54d"
      },
      "execution_count": 102,
      "outputs": [
        {
          "output_type": "execute_result",
          "data": {
            "text/plain": [
              "(False, True)"
            ]
          },
          "metadata": {},
          "execution_count": 102
        }
      ]
    },
    {
      "cell_type": "markdown",
      "source": [
        "Change height to float (exporting from PFR to excel changed it to date format for some reason)"
      ],
      "metadata": {
        "id": "PURtFAJxN3Ss"
      }
    },
    {
      "cell_type": "code",
      "source": [
        "def height(h):\n",
        "  if type(h) == float:\n",
        "    return h\n",
        "  splitted = h.split('-')\n",
        "  num = 0\n",
        "  if 'Jun' in splitted or 'May' in splitted:\n",
        "    if 'Jun' in splitted:\n",
        "      num += 12 * 6\n",
        "      splitted.remove('Jun')\n",
        "    elif 'May' in splitted:\n",
        "      num += 12 *5\n",
        "      splitted.remove('May')\n",
        "  num += int(splitted[0])\n",
        "  return num"
      ],
      "metadata": {
        "id": "Yi20xMzMY8IO"
      },
      "execution_count": 82,
      "outputs": []
    },
    {
      "cell_type": "code",
      "source": [
        "df['Ht'] = df['Ht'].apply(height)"
      ],
      "metadata": {
        "id": "bix62Us-5Tve"
      },
      "execution_count": 83,
      "outputs": []
    },
    {
      "cell_type": "markdown",
      "source": [
        "Note: Some player name with . or ' or jr in their name might have different website format, will try my best to go through list of DNP and update it in the exported excel sheet"
      ],
      "metadata": {
        "id": "lUCtuXAdOctG"
      }
    },
    {
      "cell_type": "code",
      "source": [
        "df['Experience'] = exp"
      ],
      "metadata": {
        "id": "UwZRVehhYG-g"
      },
      "execution_count": 103,
      "outputs": []
    },
    {
      "cell_type": "code",
      "source": [
        "df"
      ],
      "metadata": {
        "colab": {
          "base_uri": "https://localhost:8080/",
          "height": 424
        },
        "id": "D0jqITCqYJY-",
        "outputId": "6ae5f6ed-e090-418d-e11b-d61c6d0a194c"
      },
      "execution_count": 104,
      "outputs": [
        {
          "output_type": "execute_result",
          "data": {
            "text/plain": [
              "               Player  Pos            School    Ht     Wt  40yd  Vertical  \\\n",
              "0        John Abraham  OLB    South Carolina  76.0  252.0  4.55       NaN   \n",
              "1     Shaun Alexander   RB           Alabama  72.0  218.0  4.58       NaN   \n",
              "2      Darnell Alford   OT       Boston Col.  76.0  334.0  5.56      25.0   \n",
              "3        Kyle Allamon   TE        Texas Tech  74.0  253.0  4.97      29.0   \n",
              "4    Rashard Anderson   CB     Jackson State  74.0  206.0  4.55      34.0   \n",
              "..                ...  ...               ...   ...    ...   ...       ...   \n",
              "319     Devonte Wyatt   DT           Georgia  75.0  304.0  4.77      29.0   \n",
              "320   Jalen Wydermyer   TE         Texas A&M  76.0  255.0   NaN       NaN   \n",
              "321         Cade York    K               LSU  73.0  206.0   NaN       NaN   \n",
              "322       Nick Zakelj   OT           Fordham  78.0  316.0  5.13      28.5   \n",
              "323      Bailey Zappe   QB  Western Kentucky  73.0  215.0  4.88      30.0   \n",
              "\n",
              "     Bench  Broad Jump  3Cone  Shuttle  Drafted (tm/rnd/yr) Experience  \n",
              "0      NaN         NaN    NaN      NaN                   13         15  \n",
              "1      NaN         NaN    NaN      NaN                   19          9  \n",
              "2     23.0        94.0   8.48     4.98                  188          4  \n",
              "3      NaN       104.0   7.29     4.49                    0         -1  \n",
              "4      NaN       123.0   7.18     4.15                   23          3  \n",
              "..     ...         ...    ...      ...                  ...        ...  \n",
              "319    NaN       111.0    NaN      NaN                   28          0  \n",
              "320    NaN         NaN    NaN      NaN                    0          0  \n",
              "321   12.0         NaN    NaN      NaN                  124          0  \n",
              "322   27.0       110.0   7.75     4.71                  187          0  \n",
              "323    NaN       109.0   7.19     4.40                  137          0  \n",
              "\n",
              "[7680 rows x 13 columns]"
            ],
            "text/html": [
              "\n",
              "  <div id=\"df-867fa12f-decb-4ac6-a51e-aeb94497c721\">\n",
              "    <div class=\"colab-df-container\">\n",
              "      <div>\n",
              "<style scoped>\n",
              "    .dataframe tbody tr th:only-of-type {\n",
              "        vertical-align: middle;\n",
              "    }\n",
              "\n",
              "    .dataframe tbody tr th {\n",
              "        vertical-align: top;\n",
              "    }\n",
              "\n",
              "    .dataframe thead th {\n",
              "        text-align: right;\n",
              "    }\n",
              "</style>\n",
              "<table border=\"1\" class=\"dataframe\">\n",
              "  <thead>\n",
              "    <tr style=\"text-align: right;\">\n",
              "      <th></th>\n",
              "      <th>Player</th>\n",
              "      <th>Pos</th>\n",
              "      <th>School</th>\n",
              "      <th>Ht</th>\n",
              "      <th>Wt</th>\n",
              "      <th>40yd</th>\n",
              "      <th>Vertical</th>\n",
              "      <th>Bench</th>\n",
              "      <th>Broad Jump</th>\n",
              "      <th>3Cone</th>\n",
              "      <th>Shuttle</th>\n",
              "      <th>Drafted (tm/rnd/yr)</th>\n",
              "      <th>Experience</th>\n",
              "    </tr>\n",
              "  </thead>\n",
              "  <tbody>\n",
              "    <tr>\n",
              "      <th>0</th>\n",
              "      <td>John Abraham</td>\n",
              "      <td>OLB</td>\n",
              "      <td>South Carolina</td>\n",
              "      <td>76.0</td>\n",
              "      <td>252.0</td>\n",
              "      <td>4.55</td>\n",
              "      <td>NaN</td>\n",
              "      <td>NaN</td>\n",
              "      <td>NaN</td>\n",
              "      <td>NaN</td>\n",
              "      <td>NaN</td>\n",
              "      <td>13</td>\n",
              "      <td>15</td>\n",
              "    </tr>\n",
              "    <tr>\n",
              "      <th>1</th>\n",
              "      <td>Shaun Alexander</td>\n",
              "      <td>RB</td>\n",
              "      <td>Alabama</td>\n",
              "      <td>72.0</td>\n",
              "      <td>218.0</td>\n",
              "      <td>4.58</td>\n",
              "      <td>NaN</td>\n",
              "      <td>NaN</td>\n",
              "      <td>NaN</td>\n",
              "      <td>NaN</td>\n",
              "      <td>NaN</td>\n",
              "      <td>19</td>\n",
              "      <td>9</td>\n",
              "    </tr>\n",
              "    <tr>\n",
              "      <th>2</th>\n",
              "      <td>Darnell Alford</td>\n",
              "      <td>OT</td>\n",
              "      <td>Boston Col.</td>\n",
              "      <td>76.0</td>\n",
              "      <td>334.0</td>\n",
              "      <td>5.56</td>\n",
              "      <td>25.0</td>\n",
              "      <td>23.0</td>\n",
              "      <td>94.0</td>\n",
              "      <td>8.48</td>\n",
              "      <td>4.98</td>\n",
              "      <td>188</td>\n",
              "      <td>4</td>\n",
              "    </tr>\n",
              "    <tr>\n",
              "      <th>3</th>\n",
              "      <td>Kyle Allamon</td>\n",
              "      <td>TE</td>\n",
              "      <td>Texas Tech</td>\n",
              "      <td>74.0</td>\n",
              "      <td>253.0</td>\n",
              "      <td>4.97</td>\n",
              "      <td>29.0</td>\n",
              "      <td>NaN</td>\n",
              "      <td>104.0</td>\n",
              "      <td>7.29</td>\n",
              "      <td>4.49</td>\n",
              "      <td>0</td>\n",
              "      <td>-1</td>\n",
              "    </tr>\n",
              "    <tr>\n",
              "      <th>4</th>\n",
              "      <td>Rashard Anderson</td>\n",
              "      <td>CB</td>\n",
              "      <td>Jackson State</td>\n",
              "      <td>74.0</td>\n",
              "      <td>206.0</td>\n",
              "      <td>4.55</td>\n",
              "      <td>34.0</td>\n",
              "      <td>NaN</td>\n",
              "      <td>123.0</td>\n",
              "      <td>7.18</td>\n",
              "      <td>4.15</td>\n",
              "      <td>23</td>\n",
              "      <td>3</td>\n",
              "    </tr>\n",
              "    <tr>\n",
              "      <th>...</th>\n",
              "      <td>...</td>\n",
              "      <td>...</td>\n",
              "      <td>...</td>\n",
              "      <td>...</td>\n",
              "      <td>...</td>\n",
              "      <td>...</td>\n",
              "      <td>...</td>\n",
              "      <td>...</td>\n",
              "      <td>...</td>\n",
              "      <td>...</td>\n",
              "      <td>...</td>\n",
              "      <td>...</td>\n",
              "      <td>...</td>\n",
              "    </tr>\n",
              "    <tr>\n",
              "      <th>319</th>\n",
              "      <td>Devonte Wyatt</td>\n",
              "      <td>DT</td>\n",
              "      <td>Georgia</td>\n",
              "      <td>75.0</td>\n",
              "      <td>304.0</td>\n",
              "      <td>4.77</td>\n",
              "      <td>29.0</td>\n",
              "      <td>NaN</td>\n",
              "      <td>111.0</td>\n",
              "      <td>NaN</td>\n",
              "      <td>NaN</td>\n",
              "      <td>28</td>\n",
              "      <td>0</td>\n",
              "    </tr>\n",
              "    <tr>\n",
              "      <th>320</th>\n",
              "      <td>Jalen Wydermyer</td>\n",
              "      <td>TE</td>\n",
              "      <td>Texas A&amp;M</td>\n",
              "      <td>76.0</td>\n",
              "      <td>255.0</td>\n",
              "      <td>NaN</td>\n",
              "      <td>NaN</td>\n",
              "      <td>NaN</td>\n",
              "      <td>NaN</td>\n",
              "      <td>NaN</td>\n",
              "      <td>NaN</td>\n",
              "      <td>0</td>\n",
              "      <td>0</td>\n",
              "    </tr>\n",
              "    <tr>\n",
              "      <th>321</th>\n",
              "      <td>Cade York</td>\n",
              "      <td>K</td>\n",
              "      <td>LSU</td>\n",
              "      <td>73.0</td>\n",
              "      <td>206.0</td>\n",
              "      <td>NaN</td>\n",
              "      <td>NaN</td>\n",
              "      <td>12.0</td>\n",
              "      <td>NaN</td>\n",
              "      <td>NaN</td>\n",
              "      <td>NaN</td>\n",
              "      <td>124</td>\n",
              "      <td>0</td>\n",
              "    </tr>\n",
              "    <tr>\n",
              "      <th>322</th>\n",
              "      <td>Nick Zakelj</td>\n",
              "      <td>OT</td>\n",
              "      <td>Fordham</td>\n",
              "      <td>78.0</td>\n",
              "      <td>316.0</td>\n",
              "      <td>5.13</td>\n",
              "      <td>28.5</td>\n",
              "      <td>27.0</td>\n",
              "      <td>110.0</td>\n",
              "      <td>7.75</td>\n",
              "      <td>4.71</td>\n",
              "      <td>187</td>\n",
              "      <td>0</td>\n",
              "    </tr>\n",
              "    <tr>\n",
              "      <th>323</th>\n",
              "      <td>Bailey Zappe</td>\n",
              "      <td>QB</td>\n",
              "      <td>Western Kentucky</td>\n",
              "      <td>73.0</td>\n",
              "      <td>215.0</td>\n",
              "      <td>4.88</td>\n",
              "      <td>30.0</td>\n",
              "      <td>NaN</td>\n",
              "      <td>109.0</td>\n",
              "      <td>7.19</td>\n",
              "      <td>4.40</td>\n",
              "      <td>137</td>\n",
              "      <td>0</td>\n",
              "    </tr>\n",
              "  </tbody>\n",
              "</table>\n",
              "<p>7680 rows × 13 columns</p>\n",
              "</div>\n",
              "      <button class=\"colab-df-convert\" onclick=\"convertToInteractive('df-867fa12f-decb-4ac6-a51e-aeb94497c721')\"\n",
              "              title=\"Convert this dataframe to an interactive table.\"\n",
              "              style=\"display:none;\">\n",
              "        \n",
              "  <svg xmlns=\"http://www.w3.org/2000/svg\" height=\"24px\"viewBox=\"0 0 24 24\"\n",
              "       width=\"24px\">\n",
              "    <path d=\"M0 0h24v24H0V0z\" fill=\"none\"/>\n",
              "    <path d=\"M18.56 5.44l.94 2.06.94-2.06 2.06-.94-2.06-.94-.94-2.06-.94 2.06-2.06.94zm-11 1L8.5 8.5l.94-2.06 2.06-.94-2.06-.94L8.5 2.5l-.94 2.06-2.06.94zm10 10l.94 2.06.94-2.06 2.06-.94-2.06-.94-.94-2.06-.94 2.06-2.06.94z\"/><path d=\"M17.41 7.96l-1.37-1.37c-.4-.4-.92-.59-1.43-.59-.52 0-1.04.2-1.43.59L10.3 9.45l-7.72 7.72c-.78.78-.78 2.05 0 2.83L4 21.41c.39.39.9.59 1.41.59.51 0 1.02-.2 1.41-.59l7.78-7.78 2.81-2.81c.8-.78.8-2.07 0-2.86zM5.41 20L4 18.59l7.72-7.72 1.47 1.35L5.41 20z\"/>\n",
              "  </svg>\n",
              "      </button>\n",
              "      \n",
              "  <style>\n",
              "    .colab-df-container {\n",
              "      display:flex;\n",
              "      flex-wrap:wrap;\n",
              "      gap: 12px;\n",
              "    }\n",
              "\n",
              "    .colab-df-convert {\n",
              "      background-color: #E8F0FE;\n",
              "      border: none;\n",
              "      border-radius: 50%;\n",
              "      cursor: pointer;\n",
              "      display: none;\n",
              "      fill: #1967D2;\n",
              "      height: 32px;\n",
              "      padding: 0 0 0 0;\n",
              "      width: 32px;\n",
              "    }\n",
              "\n",
              "    .colab-df-convert:hover {\n",
              "      background-color: #E2EBFA;\n",
              "      box-shadow: 0px 1px 2px rgba(60, 64, 67, 0.3), 0px 1px 3px 1px rgba(60, 64, 67, 0.15);\n",
              "      fill: #174EA6;\n",
              "    }\n",
              "\n",
              "    [theme=dark] .colab-df-convert {\n",
              "      background-color: #3B4455;\n",
              "      fill: #D2E3FC;\n",
              "    }\n",
              "\n",
              "    [theme=dark] .colab-df-convert:hover {\n",
              "      background-color: #434B5C;\n",
              "      box-shadow: 0px 1px 3px 1px rgba(0, 0, 0, 0.15);\n",
              "      filter: drop-shadow(0px 1px 2px rgba(0, 0, 0, 0.3));\n",
              "      fill: #FFFFFF;\n",
              "    }\n",
              "  </style>\n",
              "\n",
              "      <script>\n",
              "        const buttonEl =\n",
              "          document.querySelector('#df-867fa12f-decb-4ac6-a51e-aeb94497c721 button.colab-df-convert');\n",
              "        buttonEl.style.display =\n",
              "          google.colab.kernel.accessAllowed ? 'block' : 'none';\n",
              "\n",
              "        async function convertToInteractive(key) {\n",
              "          const element = document.querySelector('#df-867fa12f-decb-4ac6-a51e-aeb94497c721');\n",
              "          const dataTable =\n",
              "            await google.colab.kernel.invokeFunction('convertToInteractive',\n",
              "                                                     [key], {});\n",
              "          if (!dataTable) return;\n",
              "\n",
              "          const docLinkHtml = 'Like what you see? Visit the ' +\n",
              "            '<a target=\"_blank\" href=https://colab.research.google.com/notebooks/data_table.ipynb>data table notebook</a>'\n",
              "            + ' to learn more about interactive tables.';\n",
              "          element.innerHTML = '';\n",
              "          dataTable['output_type'] = 'display_data';\n",
              "          await google.colab.output.renderOutput(dataTable, element);\n",
              "          const docLink = document.createElement('div');\n",
              "          docLink.innerHTML = docLinkHtml;\n",
              "          element.appendChild(docLink);\n",
              "        }\n",
              "      </script>\n",
              "    </div>\n",
              "  </div>\n",
              "  "
            ]
          },
          "metadata": {},
          "execution_count": 104
        }
      ]
    },
    {
      "cell_type": "code",
      "source": [
        "df.dropna()"
      ],
      "metadata": {
        "id": "S25UWYl9OpK3",
        "colab": {
          "base_uri": "https://localhost:8080/",
          "height": 424
        },
        "outputId": "5dea5e7d-92ae-4c34-aeaf-62d4d4011afb"
      },
      "execution_count": 105,
      "outputs": [
        {
          "output_type": "execute_result",
          "data": {
            "text/plain": [
              "             Player  Pos                 School    Ht     Wt  40yd  Vertical  \\\n",
              "2    Darnell Alford   OT            Boston Col.  76.0  334.0  5.56      25.0   \n",
              "7      Corey Atkins  OLB         South Carolina  72.0  237.0  4.72      31.0   \n",
              "9     Reggie Austin   CB            Wake Forest  69.0  175.0  4.44      35.0   \n",
              "11   Mark Baniewicz   OT               Syracuse  78.0  312.0  5.34      28.0   \n",
              "12   Rashidi Barnes    S               Colorado  72.0  208.0  4.62      35.0   \n",
              "..              ...  ...                    ...   ...    ...   ...       ...   \n",
              "261    Cole Strange   OG  Tennessee-Chattanooga  77.0  307.0  5.03      28.0   \n",
              "271     Zach Thomas   OG          San Diego St.  77.0  308.0  4.96      22.5   \n",
              "281     Cole Turner   TE                 Nevada  78.0  246.0  4.76      27.0   \n",
              "286  Cordell Volson   OG       North Dakota St.  78.0  315.0  5.27      25.0   \n",
              "322     Nick Zakelj   OT                Fordham  78.0  316.0  5.13      28.5   \n",
              "\n",
              "     Bench  Broad Jump  3Cone  Shuttle  Drafted (tm/rnd/yr) Experience  \n",
              "2     23.0        94.0   8.48     4.98                  188          4  \n",
              "7     21.0       112.0   7.96     4.39                    0          0  \n",
              "9     17.0       119.0   7.03     4.14                  125          2  \n",
              "11    20.0        96.0   7.72     4.73                  247          2  \n",
              "12    10.0       114.0   6.92     4.32                  225          0  \n",
              "..     ...         ...    ...      ...                  ...        ...  \n",
              "261   31.0       120.0   7.44     4.50                   29          0  \n",
              "271   21.0       107.0   7.40     4.65                    0         -1  \n",
              "281   17.0       120.0   7.06     4.41                  149          0  \n",
              "286   25.0       104.0   8.31     4.93                  136          0  \n",
              "322   27.0       110.0   7.75     4.71                  187          0  \n",
              "\n",
              "[3421 rows x 13 columns]"
            ],
            "text/html": [
              "\n",
              "  <div id=\"df-237391ff-b9f7-429c-badb-fa9370677d06\">\n",
              "    <div class=\"colab-df-container\">\n",
              "      <div>\n",
              "<style scoped>\n",
              "    .dataframe tbody tr th:only-of-type {\n",
              "        vertical-align: middle;\n",
              "    }\n",
              "\n",
              "    .dataframe tbody tr th {\n",
              "        vertical-align: top;\n",
              "    }\n",
              "\n",
              "    .dataframe thead th {\n",
              "        text-align: right;\n",
              "    }\n",
              "</style>\n",
              "<table border=\"1\" class=\"dataframe\">\n",
              "  <thead>\n",
              "    <tr style=\"text-align: right;\">\n",
              "      <th></th>\n",
              "      <th>Player</th>\n",
              "      <th>Pos</th>\n",
              "      <th>School</th>\n",
              "      <th>Ht</th>\n",
              "      <th>Wt</th>\n",
              "      <th>40yd</th>\n",
              "      <th>Vertical</th>\n",
              "      <th>Bench</th>\n",
              "      <th>Broad Jump</th>\n",
              "      <th>3Cone</th>\n",
              "      <th>Shuttle</th>\n",
              "      <th>Drafted (tm/rnd/yr)</th>\n",
              "      <th>Experience</th>\n",
              "    </tr>\n",
              "  </thead>\n",
              "  <tbody>\n",
              "    <tr>\n",
              "      <th>2</th>\n",
              "      <td>Darnell Alford</td>\n",
              "      <td>OT</td>\n",
              "      <td>Boston Col.</td>\n",
              "      <td>76.0</td>\n",
              "      <td>334.0</td>\n",
              "      <td>5.56</td>\n",
              "      <td>25.0</td>\n",
              "      <td>23.0</td>\n",
              "      <td>94.0</td>\n",
              "      <td>8.48</td>\n",
              "      <td>4.98</td>\n",
              "      <td>188</td>\n",
              "      <td>4</td>\n",
              "    </tr>\n",
              "    <tr>\n",
              "      <th>7</th>\n",
              "      <td>Corey Atkins</td>\n",
              "      <td>OLB</td>\n",
              "      <td>South Carolina</td>\n",
              "      <td>72.0</td>\n",
              "      <td>237.0</td>\n",
              "      <td>4.72</td>\n",
              "      <td>31.0</td>\n",
              "      <td>21.0</td>\n",
              "      <td>112.0</td>\n",
              "      <td>7.96</td>\n",
              "      <td>4.39</td>\n",
              "      <td>0</td>\n",
              "      <td>0</td>\n",
              "    </tr>\n",
              "    <tr>\n",
              "      <th>9</th>\n",
              "      <td>Reggie Austin</td>\n",
              "      <td>CB</td>\n",
              "      <td>Wake Forest</td>\n",
              "      <td>69.0</td>\n",
              "      <td>175.0</td>\n",
              "      <td>4.44</td>\n",
              "      <td>35.0</td>\n",
              "      <td>17.0</td>\n",
              "      <td>119.0</td>\n",
              "      <td>7.03</td>\n",
              "      <td>4.14</td>\n",
              "      <td>125</td>\n",
              "      <td>2</td>\n",
              "    </tr>\n",
              "    <tr>\n",
              "      <th>11</th>\n",
              "      <td>Mark Baniewicz</td>\n",
              "      <td>OT</td>\n",
              "      <td>Syracuse</td>\n",
              "      <td>78.0</td>\n",
              "      <td>312.0</td>\n",
              "      <td>5.34</td>\n",
              "      <td>28.0</td>\n",
              "      <td>20.0</td>\n",
              "      <td>96.0</td>\n",
              "      <td>7.72</td>\n",
              "      <td>4.73</td>\n",
              "      <td>247</td>\n",
              "      <td>2</td>\n",
              "    </tr>\n",
              "    <tr>\n",
              "      <th>12</th>\n",
              "      <td>Rashidi Barnes</td>\n",
              "      <td>S</td>\n",
              "      <td>Colorado</td>\n",
              "      <td>72.0</td>\n",
              "      <td>208.0</td>\n",
              "      <td>4.62</td>\n",
              "      <td>35.0</td>\n",
              "      <td>10.0</td>\n",
              "      <td>114.0</td>\n",
              "      <td>6.92</td>\n",
              "      <td>4.32</td>\n",
              "      <td>225</td>\n",
              "      <td>0</td>\n",
              "    </tr>\n",
              "    <tr>\n",
              "      <th>...</th>\n",
              "      <td>...</td>\n",
              "      <td>...</td>\n",
              "      <td>...</td>\n",
              "      <td>...</td>\n",
              "      <td>...</td>\n",
              "      <td>...</td>\n",
              "      <td>...</td>\n",
              "      <td>...</td>\n",
              "      <td>...</td>\n",
              "      <td>...</td>\n",
              "      <td>...</td>\n",
              "      <td>...</td>\n",
              "      <td>...</td>\n",
              "    </tr>\n",
              "    <tr>\n",
              "      <th>261</th>\n",
              "      <td>Cole Strange</td>\n",
              "      <td>OG</td>\n",
              "      <td>Tennessee-Chattanooga</td>\n",
              "      <td>77.0</td>\n",
              "      <td>307.0</td>\n",
              "      <td>5.03</td>\n",
              "      <td>28.0</td>\n",
              "      <td>31.0</td>\n",
              "      <td>120.0</td>\n",
              "      <td>7.44</td>\n",
              "      <td>4.50</td>\n",
              "      <td>29</td>\n",
              "      <td>0</td>\n",
              "    </tr>\n",
              "    <tr>\n",
              "      <th>271</th>\n",
              "      <td>Zach Thomas</td>\n",
              "      <td>OG</td>\n",
              "      <td>San Diego St.</td>\n",
              "      <td>77.0</td>\n",
              "      <td>308.0</td>\n",
              "      <td>4.96</td>\n",
              "      <td>22.5</td>\n",
              "      <td>21.0</td>\n",
              "      <td>107.0</td>\n",
              "      <td>7.40</td>\n",
              "      <td>4.65</td>\n",
              "      <td>0</td>\n",
              "      <td>-1</td>\n",
              "    </tr>\n",
              "    <tr>\n",
              "      <th>281</th>\n",
              "      <td>Cole Turner</td>\n",
              "      <td>TE</td>\n",
              "      <td>Nevada</td>\n",
              "      <td>78.0</td>\n",
              "      <td>246.0</td>\n",
              "      <td>4.76</td>\n",
              "      <td>27.0</td>\n",
              "      <td>17.0</td>\n",
              "      <td>120.0</td>\n",
              "      <td>7.06</td>\n",
              "      <td>4.41</td>\n",
              "      <td>149</td>\n",
              "      <td>0</td>\n",
              "    </tr>\n",
              "    <tr>\n",
              "      <th>286</th>\n",
              "      <td>Cordell Volson</td>\n",
              "      <td>OG</td>\n",
              "      <td>North Dakota St.</td>\n",
              "      <td>78.0</td>\n",
              "      <td>315.0</td>\n",
              "      <td>5.27</td>\n",
              "      <td>25.0</td>\n",
              "      <td>25.0</td>\n",
              "      <td>104.0</td>\n",
              "      <td>8.31</td>\n",
              "      <td>4.93</td>\n",
              "      <td>136</td>\n",
              "      <td>0</td>\n",
              "    </tr>\n",
              "    <tr>\n",
              "      <th>322</th>\n",
              "      <td>Nick Zakelj</td>\n",
              "      <td>OT</td>\n",
              "      <td>Fordham</td>\n",
              "      <td>78.0</td>\n",
              "      <td>316.0</td>\n",
              "      <td>5.13</td>\n",
              "      <td>28.5</td>\n",
              "      <td>27.0</td>\n",
              "      <td>110.0</td>\n",
              "      <td>7.75</td>\n",
              "      <td>4.71</td>\n",
              "      <td>187</td>\n",
              "      <td>0</td>\n",
              "    </tr>\n",
              "  </tbody>\n",
              "</table>\n",
              "<p>3421 rows × 13 columns</p>\n",
              "</div>\n",
              "      <button class=\"colab-df-convert\" onclick=\"convertToInteractive('df-237391ff-b9f7-429c-badb-fa9370677d06')\"\n",
              "              title=\"Convert this dataframe to an interactive table.\"\n",
              "              style=\"display:none;\">\n",
              "        \n",
              "  <svg xmlns=\"http://www.w3.org/2000/svg\" height=\"24px\"viewBox=\"0 0 24 24\"\n",
              "       width=\"24px\">\n",
              "    <path d=\"M0 0h24v24H0V0z\" fill=\"none\"/>\n",
              "    <path d=\"M18.56 5.44l.94 2.06.94-2.06 2.06-.94-2.06-.94-.94-2.06-.94 2.06-2.06.94zm-11 1L8.5 8.5l.94-2.06 2.06-.94-2.06-.94L8.5 2.5l-.94 2.06-2.06.94zm10 10l.94 2.06.94-2.06 2.06-.94-2.06-.94-.94-2.06-.94 2.06-2.06.94z\"/><path d=\"M17.41 7.96l-1.37-1.37c-.4-.4-.92-.59-1.43-.59-.52 0-1.04.2-1.43.59L10.3 9.45l-7.72 7.72c-.78.78-.78 2.05 0 2.83L4 21.41c.39.39.9.59 1.41.59.51 0 1.02-.2 1.41-.59l7.78-7.78 2.81-2.81c.8-.78.8-2.07 0-2.86zM5.41 20L4 18.59l7.72-7.72 1.47 1.35L5.41 20z\"/>\n",
              "  </svg>\n",
              "      </button>\n",
              "      \n",
              "  <style>\n",
              "    .colab-df-container {\n",
              "      display:flex;\n",
              "      flex-wrap:wrap;\n",
              "      gap: 12px;\n",
              "    }\n",
              "\n",
              "    .colab-df-convert {\n",
              "      background-color: #E8F0FE;\n",
              "      border: none;\n",
              "      border-radius: 50%;\n",
              "      cursor: pointer;\n",
              "      display: none;\n",
              "      fill: #1967D2;\n",
              "      height: 32px;\n",
              "      padding: 0 0 0 0;\n",
              "      width: 32px;\n",
              "    }\n",
              "\n",
              "    .colab-df-convert:hover {\n",
              "      background-color: #E2EBFA;\n",
              "      box-shadow: 0px 1px 2px rgba(60, 64, 67, 0.3), 0px 1px 3px 1px rgba(60, 64, 67, 0.15);\n",
              "      fill: #174EA6;\n",
              "    }\n",
              "\n",
              "    [theme=dark] .colab-df-convert {\n",
              "      background-color: #3B4455;\n",
              "      fill: #D2E3FC;\n",
              "    }\n",
              "\n",
              "    [theme=dark] .colab-df-convert:hover {\n",
              "      background-color: #434B5C;\n",
              "      box-shadow: 0px 1px 3px 1px rgba(0, 0, 0, 0.15);\n",
              "      filter: drop-shadow(0px 1px 2px rgba(0, 0, 0, 0.3));\n",
              "      fill: #FFFFFF;\n",
              "    }\n",
              "  </style>\n",
              "\n",
              "      <script>\n",
              "        const buttonEl =\n",
              "          document.querySelector('#df-237391ff-b9f7-429c-badb-fa9370677d06 button.colab-df-convert');\n",
              "        buttonEl.style.display =\n",
              "          google.colab.kernel.accessAllowed ? 'block' : 'none';\n",
              "\n",
              "        async function convertToInteractive(key) {\n",
              "          const element = document.querySelector('#df-237391ff-b9f7-429c-badb-fa9370677d06');\n",
              "          const dataTable =\n",
              "            await google.colab.kernel.invokeFunction('convertToInteractive',\n",
              "                                                     [key], {});\n",
              "          if (!dataTable) return;\n",
              "\n",
              "          const docLinkHtml = 'Like what you see? Visit the ' +\n",
              "            '<a target=\"_blank\" href=https://colab.research.google.com/notebooks/data_table.ipynb>data table notebook</a>'\n",
              "            + ' to learn more about interactive tables.';\n",
              "          element.innerHTML = '';\n",
              "          dataTable['output_type'] = 'display_data';\n",
              "          await google.colab.output.renderOutput(dataTable, element);\n",
              "          const docLink = document.createElement('div');\n",
              "          docLink.innerHTML = docLinkHtml;\n",
              "          element.appendChild(docLink);\n",
              "        }\n",
              "      </script>\n",
              "    </div>\n",
              "  </div>\n",
              "  "
            ]
          },
          "metadata": {},
          "execution_count": 105
        }
      ]
    },
    {
      "cell_type": "code",
      "source": [
        "df.to_csv('updated.csv', index = False)"
      ],
      "metadata": {
        "id": "OeEAM3AWPeh1"
      },
      "execution_count": 107,
      "outputs": []
    },
    {
      "cell_type": "code",
      "source": [
        "df2 = df.dropna()\n",
        "x = list(df2['Experience'])\n",
        "x.count('0') + x.count(-1)"
      ],
      "metadata": {
        "id": "Geeq2CwpQOFX",
        "colab": {
          "base_uri": "https://localhost:8080/"
        },
        "outputId": "436cd417-d104-48b0-ad30-bfbd0d3ffe58"
      },
      "execution_count": 106,
      "outputs": [
        {
          "output_type": "execute_result",
          "data": {
            "text/plain": [
              "789"
            ]
          },
          "metadata": {},
          "execution_count": 106
        }
      ]
    }
  ]
}